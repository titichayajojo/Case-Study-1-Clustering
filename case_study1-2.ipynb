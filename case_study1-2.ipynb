{
  "cells": [
    {
      "cell_type": "markdown",
      "metadata": {
        "id": "WprzFMqmMAqv"
      },
      "source": [
        "# Case Study 1\n",
        "\n",
        "#### Model selection for Clustering\n",
        "\n",
        "Clustering is unsupervised learning: the resulting clusters are completely derived from data distributed in given a feature set with no class available\n",
        "\n",
        "Compared to supervised learning counterparts, it is …\n",
        "* hard to define model performance (cluster quality)\n",
        "* sensitive to different clustering algorithms and different feature spaces.\n",
        "\n",
        "\n",
        "\n",
        "#### Task\n",
        "Your task is to try different clustering algorithms and also a range of the potential parameter(s) which affect the number of clusters including ..\n",
        "\n",
        "* K-means\n",
        "https://scikit-learn.org/stable/modules/generated/sklearn.cluster.KMeans.html\n",
        "* Gaussian Mixture Model,\n",
        "https://scikit-learn.org/stable/modules/generated/sklearn.mixture.GaussianMixture.html#sklearn.mixture.GaussianMixture\n",
        "* Hierarchical Clustering,\n",
        "https://scikit-learn.org/stable/modules/generated/sklearn.cluster.AgglomerativeClustering.html#sklearn.cluster.AgglomerativeClustering\n",
        "* Louvain Clustering,\n",
        "https://scikit-network.readthedocs.io/en/latest/reference/clustering.html#module-sknetwork.clustering\n",
        "\n",
        "on 5K colorectal patches represented by 4 different representation PathologyGAN, ResNet50, InceptionV3 and VGG16\n",
        "\n",
        "\n",
        "#### Data and its preprocessing\n",
        "5,000 non-overlapping image patches from hematoxylin & eosin (H&E) stained histological images of human colorectal cancer (CRC) and normal tissue.\n",
        "* 4 feature sets, PathologyGAN, ResNet50, InceptionV3 and VGG16, are extracted to represent those 5,000 images different dimensional feature spaces.\n",
        "* PCA and UMAP were employed to reduce each feature sapce into 100-dimensional vectors\n",
        "\n",
        "* 9 tissue types are also available which include Adipose (ADI), background (BACK), debris (DEB), lymphocytes (LYM), mucus (MUC), smooth muscle (MUS), normal colon mucosa (NORM), cancer-associated stroma (STR), colorectal adenocarcinoma epithelium (TUM)\n",
        "\n",
        "\n",
        "#### Performance Measurement\n",
        "To assess quality of clustering solutions, several approaches are expected to be done and interpreted which include...\n",
        "* Silhouette Score for goodness of fit test\n",
        "* Vmeasure Score for homogeneity and completeness test (tissue type available as ground truth)\n",
        "* Clusters visualisations\n",
        "\n",
        "For more information, please have a check...\n",
        "https://scikit-learn.org/stable/modules/clustering.html#clustering-performance-evaluation\n",
        "\n",
        "\n",
        "#### Report\n",
        "Report on your preprocessing pipeline, theory and intuition behinds each algorithm and representation, parameter searching and performance evaluation frameworks. If there is any addiotional process, give evidences/justifications on how it helps."
      ]
    },
    {
      "cell_type": "markdown",
      "metadata": {
        "id": "BWrX0rRWMAqz"
      },
      "source": [
        "#### Required Packages"
      ]
    },
    {
      "cell_type": "code",
      "execution_count": 1,
      "metadata": {
        "id": "P18ioxS9MAq0"
      },
      "outputs": [],
      "source": [
        "# !pip install h5py\n",
        "# !pip install numpy\n",
        "# !pip install pandas\n",
        "# !pip install sklearn\n",
        "# !pip install scikit-network\n",
        "# !pip install pickle-mixin==1.0.2\n",
        "# !pip install matplotlib\n",
        "# !pip install plotly\n"
      ]
    },
    {
      "cell_type": "markdown",
      "metadata": {
        "id": "BSrSRrUHMAq1"
      },
      "source": [
        "### Prepare Tissue Representations"
      ]
    },
    {
      "cell_type": "markdown",
      "metadata": {},
      "source": [
        "Model, resnet50, pathologyGAN\n",
        "Projection PCA, UMAP\n",
        "Method KMeans, Louvain\n",
        "\n",
        "Data            Metric\n",
        "Test            Sihouette + Davies-Bouldin Index ==> need to Cross Validate to get good parameters\n",
        "Label?          V-measure + Rand Index ==> show performance(model?), show similarity to test ones if YES -> we did use good parameters there\n",
        "\n",
        "Parameters\n",
        "1. k (number of cluster)"
      ]
    },
    {
      "cell_type": "code",
      "execution_count": 2,
      "metadata": {
        "id": "UN3IqaQYMAq1"
      },
      "outputs": [],
      "source": [
        "import h5py\n",
        "import numpy as np\n",
        "import pickle"
      ]
    },
    {
      "cell_type": "code",
      "execution_count": 3,
      "metadata": {
        "id": "cSUYAy2hMAq2"
      },
      "outputs": [],
      "source": [
        "pge_path = 'colon_nct_feature/pge_dim_reduced_feature.h5'\n",
        "resnet50_path = 'colon_nct_feature/resnet50_dim_reduced_feature.h5'\n",
        "inceptionv3_path = 'colon_nct_feature/inceptionv3_dim_reduced_feature.h5'\n",
        "vgg16_path = 'colon_nct_feature/vgg16_dim_reduced_feature.h5'\n",
        "\n",
        "pge_content = h5py.File(pge_path, mode='r')\n",
        "resnet50_content = h5py.File(resnet50_path, mode='r')\n",
        "inceptionv3_content = h5py.File(inceptionv3_path, mode='r')\n",
        "vgg16_content = h5py.File(vgg16_path, mode='r')\n"
      ]
    },
    {
      "cell_type": "code",
      "execution_count": 4,
      "metadata": {
        "colab": {
          "base_uri": "https://localhost:8080/"
        },
        "id": "WWSb0fkZMAq2",
        "outputId": "90705a76-8a3a-4fc9-99e0-93bf04e0a4c9"
      },
      "outputs": [
        {
          "data": {
            "text/plain": [
              "<HDF5 file \"vgg16_dim_reduced_feature.h5\" (mode r)>"
            ]
          },
          "execution_count": 4,
          "metadata": {},
          "output_type": "execute_result"
        }
      ],
      "source": [
        "vgg16_content"
      ]
    },
    {
      "cell_type": "code",
      "execution_count": 5,
      "metadata": {
        "id": "emY_yvBrMAq2"
      },
      "outputs": [],
      "source": [
        "#PCA feature from 4 feature sets: pge_latent, resnet50_latent, inceptionv3_latent, vgg16_latent\n",
        "pge_pca_feature  = pge_content['pca_feature'][...]\n",
        "resnet50_pca_feature  = resnet50_content['pca_feature'][...]\n",
        "inceptionv3_pca_feature = inceptionv3_content['pca_feature'][...]\n",
        "vgg16_pca_feature  = vgg16_content['pca_feature'][...]"
      ]
    },
    {
      "cell_type": "code",
      "execution_count": 6,
      "metadata": {
        "colab": {
          "base_uri": "https://localhost:8080/"
        },
        "id": "8qRfKiSyMAq3",
        "outputId": "1c7684df-e6c3-493a-cd03-74f155cbc2f8"
      },
      "outputs": [
        {
          "data": {
            "text/plain": [
              "array([[ -90.864815 ,  107.03243  ,  116.16385  , ...,    8.259951 ,\n",
              "          -1.1383446,   -9.175951 ],\n",
              "       [ -74.06226  ,  117.31615  ,   95.24547  , ...,   -1.9739974,\n",
              "           6.8172655,    4.2547903],\n",
              "       [ -81.875336 ,  122.84872  ,   83.767784 , ...,   -1.3287221,\n",
              "          13.65623  ,  -11.109545 ],\n",
              "       ...,\n",
              "       [  32.70835  ,   31.183935 ,  -47.30978  , ...,    4.2004256,\n",
              "           3.599823 ,    6.0058775],\n",
              "       [ -39.911785 , -105.81029  ,  122.37118  , ...,  -14.908715 ,\n",
              "          -1.1814455,  -10.837135 ],\n",
              "       [  32.35425  ,  -50.3373   ,   66.50197  , ...,   -3.859397 ,\n",
              "          -1.047523 ,    2.3827858]], dtype=float32)"
            ]
          },
          "execution_count": 6,
          "metadata": {},
          "output_type": "execute_result"
        }
      ],
      "source": [
        "vgg16_pca_feature"
      ]
    },
    {
      "cell_type": "code",
      "execution_count": 7,
      "metadata": {
        "id": "z2j-M-tlMAq3"
      },
      "outputs": [],
      "source": [
        "#UMAP feature from 4 feature sets: pge_latent, resnet50_latent, inceptionv3_latent, vgg16_latent\n",
        "pge_umap_feature  = pge_content['umap_feature'][...]\n",
        "resnet50_umap_feature = resnet50_content['umap_feature'][...]\n",
        "inceptionv3_umap_feature  = inceptionv3_content['umap_feature'][...]\n",
        "vgg16_umap_feature  = vgg16_content['umap_feature'][...]"
      ]
    },
    {
      "cell_type": "code",
      "execution_count": 8,
      "metadata": {
        "colab": {
          "base_uri": "https://localhost:8080/"
        },
        "id": "XQILD5MDMAq3",
        "outputId": "9b0e10de-9d12-477c-decf-fe407f68b15b"
      },
      "outputs": [
        {
          "data": {
            "text/plain": [
              "array(['ADI', 'ADI', 'ADI', ..., 'TUM', 'TUM', 'TUM'], dtype='<U4')"
            ]
          },
          "execution_count": 8,
          "metadata": {},
          "output_type": "execute_result"
        }
      ],
      "source": [
        "#tissue type as available ground-truth: labels\n",
        "filename  = np.squeeze(pge_content['file_name'])\n",
        "filename = np.array([str(x) for x in filename])\n",
        "labels = np.array([x.split('/')[2] for x in filename])\n",
        "labels"
      ]
    },
    {
      "cell_type": "markdown",
      "metadata": {
        "id": "qzddlvXhMAq4"
      },
      "source": [
        "# Example"
      ]
    },
    {
      "cell_type": "code",
      "execution_count": 9,
      "metadata": {
        "id": "I2sxoLxjMAq4"
      },
      "outputs": [],
      "source": [
        "import random"
      ]
    },
    {
      "cell_type": "code",
      "execution_count": 10,
      "metadata": {
        "id": "lXIYfuqNMAq4"
      },
      "outputs": [],
      "source": [
        "random.seed(0)\n",
        "selected_index = random.sample(list(np.arange(len(pge_pca_feature))), 200)"
      ]
    },
    {
      "cell_type": "code",
      "execution_count": 11,
      "metadata": {
        "id": "qPhq1_SrMAq4"
      },
      "outputs": [],
      "source": [
        "test_data = pge_pca_feature[selected_index]\n",
        "test_label = labels[selected_index]"
      ]
    },
    {
      "cell_type": "markdown",
      "metadata": {
        "id": "bD64y0xfMAq4"
      },
      "source": [
        "### Exploratory Analysis"
      ]
    },
    {
      "cell_type": "code",
      "execution_count": 12,
      "metadata": {
        "id": "26BValPVMAq5"
      },
      "outputs": [],
      "source": [
        "import plotly.graph_objects as go\n",
        "import pandas as pd"
      ]
    },
    {
      "cell_type": "code",
      "execution_count": 13,
      "metadata": {
        "colab": {
          "base_uri": "https://localhost:8080/",
          "height": 800
        },
        "id": "XSbmYTGWMAq5",
        "outputId": "216af6bc-d3e4-4010-de01-ec38261a1aab"
      },
      "outputs": [
        {
          "name": "stderr",
          "output_type": "stream",
          "text": [
            "/Users/jojotitichaya/Downloads/case_study_1/venv/lib/python3.11/site-packages/plotly/graph_objs/_deprecations.py:31: DeprecationWarning: plotly.graph_objs.Data is deprecated.\n",
            "Please replace it with a list or tuple of instances of the following types\n",
            "  - plotly.graph_objs.Scatter\n",
            "  - plotly.graph_objs.Bar\n",
            "  - plotly.graph_objs.Area\n",
            "  - plotly.graph_objs.Histogram\n",
            "  - etc.\n",
            "\n",
            "  warnings.warn(\n",
            "/Users/jojotitichaya/Downloads/case_study_1/venv/lib/python3.11/site-packages/plotly/graph_objs/_deprecations.py:489: DeprecationWarning: plotly.graph_objs.Scene is deprecated.\n",
            "Please replace it with one of the following more specific types\n",
            "  - plotly.graph_objs.layout.Scene\n",
            "\n",
            "  warnings.warn(\n"
          ]
        },
        {
          "data": {
            "application/vnd.plotly.v1+json": {
              "config": {
                "plotlyServerURL": "https://plot.ly"
              },
              "data": [
                {
                  "marker": {
                    "opacity": 0.8,
                    "size": 4
                  },
                  "mode": "markers",
                  "name": "ADI",
                  "type": "scatter3d",
                  "x": [
                    -2.80910325050354,
                    -3.5107946395874023,
                    -2.540876626968384,
                    -2.466106414794922,
                    -0.4942999482154846,
                    -2.5766615867614746,
                    -2.515319347381592,
                    -2.4500153064727783,
                    -3.4240779876708984,
                    -2.6738908290863037,
                    -2.4760935306549072,
                    -3.14597749710083,
                    -2.6527116298675537,
                    -2.2297441959381104,
                    -2.20523738861084,
                    -2.8100199699401855,
                    -2.110729455947876,
                    -1.0982666015625,
                    -2.482320547103882,
                    -2.7989208698272705
                  ],
                  "y": [
                    1.641084909439087,
                    2.095238447189331,
                    0.6980736255645752,
                    1.1305599212646484,
                    0.29047855734825134,
                    -0.0504959337413311,
                    0.9154621362686157,
                    1.9379597902297974,
                    1.223361611366272,
                    1.4871126413345337,
                    1.0783816576004028,
                    1.2370116710662842,
                    0.7089271545410156,
                    0.9724736213684082,
                    0.4453190267086029,
                    1.3596603870391846,
                    0.9256184101104736,
                    -0.7673229575157166,
                    1.21478271484375,
                    1.0915733575820923
                  ],
                  "z": [
                    -1.6792036294937134,
                    -1.1832021474838257,
                    -1.9788157939910889,
                    -1.9436942338943481,
                    -0.46169668436050415,
                    -1.2491406202316284,
                    -1.8460683822631836,
                    -0.769687294960022,
                    -0.5930798053741455,
                    -1.4590485095977783,
                    -1.2425991296768188,
                    -0.31574583053588867,
                    -1.342515468597412,
                    -1.4953522682189941,
                    -2.531210422515869,
                    -0.9483823776245117,
                    -1.1083091497421265,
                    -2.3734583854675293,
                    -1.7588921785354614,
                    -1.43263578414917
                  ]
                },
                {
                  "marker": {
                    "opacity": 0.8,
                    "size": 4
                  },
                  "mode": "markers",
                  "name": "BACK",
                  "type": "scatter3d",
                  "x": [
                    -2.8042843341827393,
                    0.8385344743728638,
                    -3.437290668487549,
                    -3.1348464488983154,
                    0.7314002513885498,
                    -2.147923469543457,
                    -2.3230206966400146,
                    -0.8257145881652832,
                    -2.785698413848877,
                    -2.7182464599609375,
                    -2.6656105518341064,
                    -1.7403383255004883,
                    -0.1851545125246048,
                    -3.2624528408050537,
                    0.560878574848175,
                    -2.000267267227173,
                    -3.39613938331604,
                    -2.7366838455200195,
                    -2.9919610023498535,
                    -1.9951847791671753,
                    -3.4248368740081787,
                    -3.0863757133483887,
                    -3.438183307647705,
                    -1.8699625730514526,
                    -3.074002504348755,
                    -2.666363000869751,
                    -3.3237197399139404,
                    -2.7485477924346924,
                    -2.129458427429199
                  ],
                  "y": [
                    -1.3386635780334473,
                    -0.44277986884117126,
                    -0.34917590022087097,
                    -0.5737688541412354,
                    0.202111154794693,
                    3.0612497329711914,
                    -0.7469519376754761,
                    2.140403985977173,
                    -0.5729371905326843,
                    -0.6371952891349792,
                    -1.3187475204467773,
                    2.8922226428985596,
                    -1.3877997398376465,
                    -0.27803394198417664,
                    3.135702610015869,
                    2.0205066204071045,
                    -0.3462461531162262,
                    -1.1293288469314575,
                    -0.0914870873093605,
                    2.5647084712982178,
                    0.3548954129219055,
                    -0.2342482954263687,
                    0.2809958755970001,
                    4.790000915527344,
                    0.486345112323761,
                    0.07931797206401825,
                    0.17615391314029694,
                    -0.15286961197853088,
                    -0.0032860920764505863
                  ],
                  "z": [
                    -1.5004860162734985,
                    -2.9620444774627686,
                    0.3747452199459076,
                    -0.6676859855651855,
                    -0.4262874722480774,
                    0.03439986705780029,
                    -1.244189739227295,
                    -0.5851277112960815,
                    0.4523427486419678,
                    0.21515953540802002,
                    -0.5012557506561279,
                    -0.2700692415237427,
                    -2.6020498275756836,
                    0.1898866891860962,
                    0.6878861784934998,
                    -1.1515488624572754,
                    -0.06945113092660904,
                    -0.5515846610069275,
                    0.4076254665851593,
                    -0.2179465889930725,
                    0.7451879978179932,
                    0.0441930815577507,
                    0.23133385181427002,
                    -0.3493310809135437,
                    -0.12264461815357208,
                    0.1522737592458725,
                    0.2922041118144989,
                    0.6666591167449951,
                    0.6146443486213684
                  ]
                },
                {
                  "marker": {
                    "opacity": 0.8,
                    "size": 4
                  },
                  "mode": "markers",
                  "name": "DEB",
                  "type": "scatter3d",
                  "x": [
                    -0.949601411819458,
                    -0.653144359588623,
                    -0.992447555065155,
                    -2.0278947353363037,
                    2.670332193374634,
                    -0.1636441946029663,
                    1.5869381427764893,
                    -0.4948872923851013,
                    -1.5119367837905884,
                    1.3880749940872192,
                    -1.1581059694290161,
                    4.438055515289307,
                    -1.115469217300415,
                    -2.431694269180298,
                    -2.2375295162200928,
                    -1.995535135269165,
                    1.7805414199829102,
                    -1.1487576961517334,
                    0.12503202259540558,
                    -2.0510294437408447,
                    2.1888651847839355
                  ],
                  "y": [
                    -1.74832022190094,
                    -1.7916929721832275,
                    -1.6330013275146484,
                    -1.2618733644485474,
                    -0.2304566353559494,
                    -0.9714247584342957,
                    -0.15573427081108093,
                    -2.148298501968384,
                    0.20254573225975037,
                    1.719498872756958,
                    -0.7978692650794983,
                    -1.0995359420776367,
                    -1.5374306440353394,
                    -0.446001797914505,
                    -1.486035943031311,
                    -1.3105318546295166,
                    6.373378753662109,
                    -1.0548309087753296,
                    -2.0928399562835693,
                    -1.0958093404769897,
                    0.5248071551322937
                  ],
                  "z": [
                    0.6196725368499756,
                    0.4250074625015259,
                    1.6308354139328003,
                    0.4354446828365326,
                    -0.42151781916618347,
                    -1.0496264696121216,
                    -0.9445487260818481,
                    0.2361324280500412,
                    -0.04571620374917984,
                    0.7638567686080933,
                    1.5331089496612549,
                    -0.8454372882843018,
                    0.07552725821733475,
                    -0.2614552080631256,
                    1.3643172979354858,
                    1.1603158712387085,
                    1.2013646364212036,
                    -0.47173166275024414,
                    0.8806122541427612,
                    0.369162917137146,
                    0.1365313082933426
                  ]
                },
                {
                  "marker": {
                    "opacity": 0.8,
                    "size": 4
                  },
                  "mode": "markers",
                  "name": "LYM",
                  "type": "scatter3d",
                  "x": [
                    8.317464828491211,
                    1.9302431344985962,
                    5.693930149078369,
                    4.7158355712890625,
                    6.5534234046936035,
                    6.03725528717041,
                    4.379756450653076,
                    7.215152263641357,
                    5.891232967376709,
                    2.568795919418335,
                    9.089051246643066,
                    7.78715181350708,
                    5.944592475891113,
                    2.5507049560546875,
                    2.358452320098877,
                    3.8699355125427246,
                    5.171095848083496,
                    8.048303604125977,
                    3.082335948944092,
                    1.5726706981658936,
                    5.506684303283691,
                    8.415162086486816,
                    3.8205440044403076,
                    4.755460262298584
                  ],
                  "y": [
                    0.49578890204429626,
                    -0.6899961829185486,
                    -0.3507034480571747,
                    1.3090718984603882,
                    0.3216196894645691,
                    -0.08638095110654831,
                    -0.19609028100967407,
                    2.201855182647705,
                    0.24356892704963684,
                    -1.1731953620910645,
                    1.2077538967132568,
                    0.6078155636787415,
                    4.0083231925964355,
                    2.342583656311035,
                    -1.2840025424957275,
                    -2.078395366668701,
                    2.0957047939300537,
                    1.2301161289215088,
                    -1.6841869354248047,
                    -0.6454808712005615,
                    0.31266045570373535,
                    1.4713590145111084,
                    -1.4674891233444214,
                    -0.23318402469158173
                  ],
                  "z": [
                    -0.5414592623710632,
                    -1.8226772546768188,
                    -0.9104019403457642,
                    0.41950032114982605,
                    0.4398237466812134,
                    -0.805705189704895,
                    -1.1106138229370117,
                    -1.0050157308578491,
                    -0.4814695417881012,
                    -0.6272109746932983,
                    -0.9224023818969727,
                    -1.079860806465149,
                    -0.2964570224285126,
                    0.652327835559845,
                    -0.8065783977508545,
                    -1.4690663814544678,
                    -0.42504778504371643,
                    -1.9550151824951172,
                    -1.4759832620620728,
                    -1.8956828117370605,
                    -0.3884112536907196,
                    -0.28090932965278625,
                    -0.8909381628036499,
                    -1.1223649978637695
                  ]
                },
                {
                  "marker": {
                    "opacity": 0.8,
                    "size": 4
                  },
                  "mode": "markers",
                  "name": "MUC",
                  "type": "scatter3d",
                  "x": [
                    -2.811310291290283,
                    -1.4364233016967773,
                    -1.9444092512130737,
                    -3.0520989894866943,
                    7.311782360076904,
                    -2.1481053829193115,
                    4.0519328117370605,
                    -2.3227415084838867,
                    -2.469416618347168,
                    -2.1080422401428223,
                    0.5912961363792419,
                    -2.0037219524383545,
                    -0.980537474155426,
                    -1.0481783151626587,
                    1.956563115119934
                  ],
                  "y": [
                    0.6740286350250244,
                    -0.34565263986587524,
                    -0.24497665464878082,
                    3.142521381378174,
                    2.66701340675354,
                    0.41702601313591003,
                    -0.9423514604568481,
                    -0.2540041506290436,
                    0.3367685079574585,
                    -0.010101006366312504,
                    -0.07010903209447861,
                    0.16474393010139465,
                    0.6430789232254028,
                    -0.4632924497127533,
                    -0.629684329032898
                  ],
                  "z": [
                    -1.263016939163208,
                    0.2728184461593628,
                    -1.7957689762115479,
                    1.0725940465927124,
                    -0.4788314402103424,
                    0.6142954230308533,
                    2.0309605598449707,
                    -0.6366668939590454,
                    -0.009603375568985939,
                    -0.7294905781745911,
                    -0.7601697444915771,
                    -1.50285804271698,
                    2.508153200149536,
                    -1.918059229850769,
                    3.2956290245056152
                  ]
                },
                {
                  "marker": {
                    "opacity": 0.8,
                    "size": 4
                  },
                  "mode": "markers",
                  "name": "MUS",
                  "type": "scatter3d",
                  "x": [
                    -2.826046943664551,
                    -2.545809745788574,
                    0.5151179432868958,
                    -2.2149829864501953,
                    0.907294511795044,
                    -2.4368152618408203,
                    -1.1363848447799683,
                    1.8474656343460083,
                    -0.8152084350585938,
                    -0.3645562529563904,
                    -1.6930421590805054,
                    -1.8597511053085327,
                    -0.929050087928772,
                    -1.482484221458435,
                    1.5186933279037476,
                    -1.1580017805099487,
                    -0.3202328383922577,
                    -1.2648730278015137,
                    -1.4349876642227173,
                    -1.0011721849441528,
                    -0.9460918307304382,
                    -1.3156172037124634,
                    1.5165282487869263,
                    -0.8964354395866394
                  ],
                  "y": [
                    -1.067091941833496,
                    0.3897300660610199,
                    3.1649465560913086,
                    -0.05394352599978447,
                    0.898815929889679,
                    1.427390694618225,
                    2.7882919311523438,
                    3.5381200313568115,
                    -1.5054104328155518,
                    -1.1942888498306274,
                    -1.7118566036224365,
                    0.5798163414001465,
                    -1.2957618236541748,
                    -1.384553074836731,
                    1.3316994905471802,
                    1.1737430095672607,
                    -0.6555736660957336,
                    -1.0392847061157227,
                    -0.76240074634552,
                    -1.148558259010315,
                    -1.3991590738296509,
                    -1.2166528701782227,
                    -1.9325599670410156,
                    -1.6799780130386353
                  ],
                  "z": [
                    1.5014948844909668,
                    1.0694074630737305,
                    4.4743218421936035,
                    0.501203179359436,
                    3.9681665897369385,
                    -0.38852018117904663,
                    2.0195465087890625,
                    -0.7053205966949463,
                    -1.9089176654815674,
                    0.4381464421749115,
                    1.8647730350494385,
                    1.2740355730056763,
                    2.9712226390838623,
                    2.2882416248321533,
                    3.3144803047180176,
                    -0.7376317977905273,
                    -2.912081241607666,
                    -0.9471005201339722,
                    -1.7320901155471802,
                    -4.187099456787109,
                    0.8555601239204407,
                    -2.0876636505126953,
                    0.8368980884552002,
                    -0.3288414180278778
                  ]
                },
                {
                  "marker": {
                    "opacity": 0.8,
                    "size": 4
                  },
                  "mode": "markers",
                  "name": "NORM",
                  "type": "scatter3d",
                  "x": [
                    -0.6603190898895264,
                    3.1558170318603516,
                    -1.0971190929412842,
                    -0.22669823467731476,
                    -0.18013377487659454,
                    4.254236698150635,
                    3.478296995162964,
                    4.454375743865967,
                    2.961278200149536,
                    5.0351738929748535,
                    2.226635694503784,
                    3.0865349769592285,
                    -0.625483512878418
                  ],
                  "y": [
                    5.520968914031982,
                    0.9273907542228699,
                    1.2149876356124878,
                    1.3312077522277832,
                    0.2269643247127533,
                    -0.9131682515144348,
                    -0.5726996660232544,
                    1.1185550689697266,
                    1.6113225221633911,
                    2.2628769874572754,
                    1.50869882106781,
                    -0.48633378744125366,
                    1.7492738962173462
                  ],
                  "z": [
                    0.8663725256919861,
                    -0.848366916179657,
                    1.5529272556304932,
                    0.5130269527435303,
                    0.32849955558776855,
                    -0.759674072265625,
                    -0.7392110228538513,
                    0.9640799164772034,
                    -0.8865923285484314,
                    1.180433750152588,
                    -0.6991420984268188,
                    0.20462387800216675,
                    -0.03885919973254204
                  ]
                },
                {
                  "marker": {
                    "opacity": 0.8,
                    "size": 4
                  },
                  "mode": "markers",
                  "name": "STR",
                  "type": "scatter3d",
                  "x": [
                    -1.6992220878601074,
                    -2.1843457221984863,
                    -0.8840118050575256,
                    0.8265144228935242,
                    -1.7924840450286865,
                    -1.1162184476852417,
                    -1.6072357892990112,
                    0.44033700227737427,
                    -1.5767693519592285,
                    -2.118816375732422,
                    -1.5423022508621216,
                    -1.0166280269622803,
                    -1.2150081396102905,
                    -0.16175879538059235,
                    -0.4319313168525696,
                    -2.21907901763916,
                    -1.298270583152771,
                    -1.0682727098464966
                  ],
                  "y": [
                    -1.9958336353302002,
                    0.6414546966552734,
                    -1.1497048139572144,
                    -1.642641544342041,
                    -1.6496585607528687,
                    -1.5298842191696167,
                    -0.4715363085269928,
                    -1.4050674438476562,
                    -0.8323615193367004,
                    0.026942741125822067,
                    -2.4296984672546387,
                    -1.125867486000061,
                    -1.8682504892349243,
                    -1.4609904289245605,
                    -1.2910897731781006,
                    -0.4727605879306793,
                    -1.5226798057556152,
                    -1.8274949789047241
                  ],
                  "z": [
                    0.3162650167942047,
                    1.7459235191345215,
                    1.5335009098052979,
                    1.7262014150619507,
                    -1.0417574644088745,
                    -0.26611796021461487,
                    -0.6813101172447205,
                    0.4567407965660095,
                    0.5321458578109741,
                    0.9864225387573242,
                    -0.4028305113315582,
                    0.08562818169593811,
                    0.27913063764572144,
                    1.947022557258606,
                    -2.1030995845794678,
                    1.6492931842803955,
                    -0.8635166883468628,
                    1.2377198934555054
                  ]
                },
                {
                  "marker": {
                    "opacity": 0.8,
                    "size": 4
                  },
                  "mode": "markers",
                  "name": "TUM",
                  "type": "scatter3d",
                  "x": [
                    5.282077789306641,
                    3.5683329105377197,
                    4.8515167236328125,
                    0.7841576933860779,
                    5.955626487731934,
                    3.5823004245758057,
                    4.746068000793457,
                    0.34536460041999817,
                    3.163618326187134,
                    4.240563869476318,
                    1.640069603919983,
                    3.6987335681915283,
                    2.980156421661377,
                    -0.5177138447761536,
                    1.9616448879241943,
                    1.1999833583831787,
                    0.1784152388572693,
                    3.4881343841552734,
                    -0.7874645590782166,
                    3.2776334285736084,
                    2.682187080383301,
                    3.2031800746917725,
                    4.555750846862793,
                    2.967742443084717,
                    3.5071651935577393,
                    -0.38065633177757263,
                    1.3866370916366577,
                    5.726469993591309,
                    1.0309338569641113,
                    2.49501895904541,
                    5.049384593963623,
                    0.7600491046905518,
                    0.05018305405974388,
                    3.0489213466644287,
                    0.2961072623729706,
                    0.9085349440574646
                  ],
                  "y": [
                    -0.31221577525138855,
                    -1.2266201972961426,
                    1.5937894582748413,
                    -0.11093439161777496,
                    2.426994562149048,
                    -0.8039520382881165,
                    -1.4145723581314087,
                    -2.4228954315185547,
                    -0.4624347388744354,
                    -0.9779943823814392,
                    -0.9540731906890869,
                    -0.9110185503959656,
                    -2.025421380996704,
                    -0.4811004400253296,
                    0.16412410140037537,
                    -1.7087650299072266,
                    -2.0290091037750244,
                    -0.33475053310394287,
                    -1.7365187406539917,
                    1.3622560501098633,
                    -1.3244907855987549,
                    2.7908382415771484,
                    -0.6850056648254395,
                    -1.1832385063171387,
                    0.8240606188774109,
                    -2.13202166557312,
                    -0.24204504489898682,
                    1.8622276782989502,
                    0.6859128475189209,
                    -1.5948601961135864,
                    -1.0344979763031006,
                    -1.729380488395691,
                    2.5404114723205566,
                    -1.6344274282455444,
                    -2.6649022102355957,
                    -1.8437764644622803
                  ],
                  "z": [
                    -0.45349565148353577,
                    1.5863803625106812,
                    1.1532440185546875,
                    0.6260252594947815,
                    -0.608002781867981,
                    -0.5616295337677002,
                    -0.36129456758499146,
                    -0.030400888994336128,
                    0.5448715090751648,
                    0.23279401659965515,
                    1.2286672592163086,
                    -0.5922850370407104,
                    0.8439737558364868,
                    -1.9362295866012573,
                    -1.0513967275619507,
                    0.9188126921653748,
                    0.426249623298645,
                    1.6245808601379395,
                    0.6412115693092346,
                    0.770486056804657,
                    2.125746250152588,
                    0.9386202096939087,
                    -1.4899017810821533,
                    -0.05740664526820183,
                    2.211939573287964,
                    1.3128868341445923,
                    1.4493720531463623,
                    0.3399445414543152,
                    1.000885248184204,
                    0.5436438918113708,
                    0.46317851543426514,
                    0.056854091584682465,
                    0.8496703505516052,
                    1.04273521900177,
                    0.4831208288669586,
                    0.4202795624732971
                  ]
                }
              ],
              "layout": {
                "legend": {
                  "title": {
                    "text": "Legend Title"
                  }
                },
                "scene": {
                  "xaxis": {
                    "title": {
                      "text": "PC1"
                    }
                  },
                  "yaxis": {
                    "title": {
                      "text": "PC2"
                    }
                  },
                  "zaxis": {
                    "title": {
                      "text": "PC3"
                    }
                  }
                },
                "showlegend": true,
                "template": {
                  "data": {
                    "bar": [
                      {
                        "error_x": {
                          "color": "#2a3f5f"
                        },
                        "error_y": {
                          "color": "#2a3f5f"
                        },
                        "marker": {
                          "line": {
                            "color": "#E5ECF6",
                            "width": 0.5
                          },
                          "pattern": {
                            "fillmode": "overlay",
                            "size": 10,
                            "solidity": 0.2
                          }
                        },
                        "type": "bar"
                      }
                    ],
                    "barpolar": [
                      {
                        "marker": {
                          "line": {
                            "color": "#E5ECF6",
                            "width": 0.5
                          },
                          "pattern": {
                            "fillmode": "overlay",
                            "size": 10,
                            "solidity": 0.2
                          }
                        },
                        "type": "barpolar"
                      }
                    ],
                    "carpet": [
                      {
                        "aaxis": {
                          "endlinecolor": "#2a3f5f",
                          "gridcolor": "white",
                          "linecolor": "white",
                          "minorgridcolor": "white",
                          "startlinecolor": "#2a3f5f"
                        },
                        "baxis": {
                          "endlinecolor": "#2a3f5f",
                          "gridcolor": "white",
                          "linecolor": "white",
                          "minorgridcolor": "white",
                          "startlinecolor": "#2a3f5f"
                        },
                        "type": "carpet"
                      }
                    ],
                    "choropleth": [
                      {
                        "colorbar": {
                          "outlinewidth": 0,
                          "ticks": ""
                        },
                        "type": "choropleth"
                      }
                    ],
                    "contour": [
                      {
                        "colorbar": {
                          "outlinewidth": 0,
                          "ticks": ""
                        },
                        "colorscale": [
                          [
                            0,
                            "#0d0887"
                          ],
                          [
                            0.1111111111111111,
                            "#46039f"
                          ],
                          [
                            0.2222222222222222,
                            "#7201a8"
                          ],
                          [
                            0.3333333333333333,
                            "#9c179e"
                          ],
                          [
                            0.4444444444444444,
                            "#bd3786"
                          ],
                          [
                            0.5555555555555556,
                            "#d8576b"
                          ],
                          [
                            0.6666666666666666,
                            "#ed7953"
                          ],
                          [
                            0.7777777777777778,
                            "#fb9f3a"
                          ],
                          [
                            0.8888888888888888,
                            "#fdca26"
                          ],
                          [
                            1,
                            "#f0f921"
                          ]
                        ],
                        "type": "contour"
                      }
                    ],
                    "contourcarpet": [
                      {
                        "colorbar": {
                          "outlinewidth": 0,
                          "ticks": ""
                        },
                        "type": "contourcarpet"
                      }
                    ],
                    "heatmap": [
                      {
                        "colorbar": {
                          "outlinewidth": 0,
                          "ticks": ""
                        },
                        "colorscale": [
                          [
                            0,
                            "#0d0887"
                          ],
                          [
                            0.1111111111111111,
                            "#46039f"
                          ],
                          [
                            0.2222222222222222,
                            "#7201a8"
                          ],
                          [
                            0.3333333333333333,
                            "#9c179e"
                          ],
                          [
                            0.4444444444444444,
                            "#bd3786"
                          ],
                          [
                            0.5555555555555556,
                            "#d8576b"
                          ],
                          [
                            0.6666666666666666,
                            "#ed7953"
                          ],
                          [
                            0.7777777777777778,
                            "#fb9f3a"
                          ],
                          [
                            0.8888888888888888,
                            "#fdca26"
                          ],
                          [
                            1,
                            "#f0f921"
                          ]
                        ],
                        "type": "heatmap"
                      }
                    ],
                    "heatmapgl": [
                      {
                        "colorbar": {
                          "outlinewidth": 0,
                          "ticks": ""
                        },
                        "colorscale": [
                          [
                            0,
                            "#0d0887"
                          ],
                          [
                            0.1111111111111111,
                            "#46039f"
                          ],
                          [
                            0.2222222222222222,
                            "#7201a8"
                          ],
                          [
                            0.3333333333333333,
                            "#9c179e"
                          ],
                          [
                            0.4444444444444444,
                            "#bd3786"
                          ],
                          [
                            0.5555555555555556,
                            "#d8576b"
                          ],
                          [
                            0.6666666666666666,
                            "#ed7953"
                          ],
                          [
                            0.7777777777777778,
                            "#fb9f3a"
                          ],
                          [
                            0.8888888888888888,
                            "#fdca26"
                          ],
                          [
                            1,
                            "#f0f921"
                          ]
                        ],
                        "type": "heatmapgl"
                      }
                    ],
                    "histogram": [
                      {
                        "marker": {
                          "pattern": {
                            "fillmode": "overlay",
                            "size": 10,
                            "solidity": 0.2
                          }
                        },
                        "type": "histogram"
                      }
                    ],
                    "histogram2d": [
                      {
                        "colorbar": {
                          "outlinewidth": 0,
                          "ticks": ""
                        },
                        "colorscale": [
                          [
                            0,
                            "#0d0887"
                          ],
                          [
                            0.1111111111111111,
                            "#46039f"
                          ],
                          [
                            0.2222222222222222,
                            "#7201a8"
                          ],
                          [
                            0.3333333333333333,
                            "#9c179e"
                          ],
                          [
                            0.4444444444444444,
                            "#bd3786"
                          ],
                          [
                            0.5555555555555556,
                            "#d8576b"
                          ],
                          [
                            0.6666666666666666,
                            "#ed7953"
                          ],
                          [
                            0.7777777777777778,
                            "#fb9f3a"
                          ],
                          [
                            0.8888888888888888,
                            "#fdca26"
                          ],
                          [
                            1,
                            "#f0f921"
                          ]
                        ],
                        "type": "histogram2d"
                      }
                    ],
                    "histogram2dcontour": [
                      {
                        "colorbar": {
                          "outlinewidth": 0,
                          "ticks": ""
                        },
                        "colorscale": [
                          [
                            0,
                            "#0d0887"
                          ],
                          [
                            0.1111111111111111,
                            "#46039f"
                          ],
                          [
                            0.2222222222222222,
                            "#7201a8"
                          ],
                          [
                            0.3333333333333333,
                            "#9c179e"
                          ],
                          [
                            0.4444444444444444,
                            "#bd3786"
                          ],
                          [
                            0.5555555555555556,
                            "#d8576b"
                          ],
                          [
                            0.6666666666666666,
                            "#ed7953"
                          ],
                          [
                            0.7777777777777778,
                            "#fb9f3a"
                          ],
                          [
                            0.8888888888888888,
                            "#fdca26"
                          ],
                          [
                            1,
                            "#f0f921"
                          ]
                        ],
                        "type": "histogram2dcontour"
                      }
                    ],
                    "mesh3d": [
                      {
                        "colorbar": {
                          "outlinewidth": 0,
                          "ticks": ""
                        },
                        "type": "mesh3d"
                      }
                    ],
                    "parcoords": [
                      {
                        "line": {
                          "colorbar": {
                            "outlinewidth": 0,
                            "ticks": ""
                          }
                        },
                        "type": "parcoords"
                      }
                    ],
                    "pie": [
                      {
                        "automargin": true,
                        "type": "pie"
                      }
                    ],
                    "scatter": [
                      {
                        "fillpattern": {
                          "fillmode": "overlay",
                          "size": 10,
                          "solidity": 0.2
                        },
                        "type": "scatter"
                      }
                    ],
                    "scatter3d": [
                      {
                        "line": {
                          "colorbar": {
                            "outlinewidth": 0,
                            "ticks": ""
                          }
                        },
                        "marker": {
                          "colorbar": {
                            "outlinewidth": 0,
                            "ticks": ""
                          }
                        },
                        "type": "scatter3d"
                      }
                    ],
                    "scattercarpet": [
                      {
                        "marker": {
                          "colorbar": {
                            "outlinewidth": 0,
                            "ticks": ""
                          }
                        },
                        "type": "scattercarpet"
                      }
                    ],
                    "scattergeo": [
                      {
                        "marker": {
                          "colorbar": {
                            "outlinewidth": 0,
                            "ticks": ""
                          }
                        },
                        "type": "scattergeo"
                      }
                    ],
                    "scattergl": [
                      {
                        "marker": {
                          "colorbar": {
                            "outlinewidth": 0,
                            "ticks": ""
                          }
                        },
                        "type": "scattergl"
                      }
                    ],
                    "scattermapbox": [
                      {
                        "marker": {
                          "colorbar": {
                            "outlinewidth": 0,
                            "ticks": ""
                          }
                        },
                        "type": "scattermapbox"
                      }
                    ],
                    "scatterpolar": [
                      {
                        "marker": {
                          "colorbar": {
                            "outlinewidth": 0,
                            "ticks": ""
                          }
                        },
                        "type": "scatterpolar"
                      }
                    ],
                    "scatterpolargl": [
                      {
                        "marker": {
                          "colorbar": {
                            "outlinewidth": 0,
                            "ticks": ""
                          }
                        },
                        "type": "scatterpolargl"
                      }
                    ],
                    "scatterternary": [
                      {
                        "marker": {
                          "colorbar": {
                            "outlinewidth": 0,
                            "ticks": ""
                          }
                        },
                        "type": "scatterternary"
                      }
                    ],
                    "surface": [
                      {
                        "colorbar": {
                          "outlinewidth": 0,
                          "ticks": ""
                        },
                        "colorscale": [
                          [
                            0,
                            "#0d0887"
                          ],
                          [
                            0.1111111111111111,
                            "#46039f"
                          ],
                          [
                            0.2222222222222222,
                            "#7201a8"
                          ],
                          [
                            0.3333333333333333,
                            "#9c179e"
                          ],
                          [
                            0.4444444444444444,
                            "#bd3786"
                          ],
                          [
                            0.5555555555555556,
                            "#d8576b"
                          ],
                          [
                            0.6666666666666666,
                            "#ed7953"
                          ],
                          [
                            0.7777777777777778,
                            "#fb9f3a"
                          ],
                          [
                            0.8888888888888888,
                            "#fdca26"
                          ],
                          [
                            1,
                            "#f0f921"
                          ]
                        ],
                        "type": "surface"
                      }
                    ],
                    "table": [
                      {
                        "cells": {
                          "fill": {
                            "color": "#EBF0F8"
                          },
                          "line": {
                            "color": "white"
                          }
                        },
                        "header": {
                          "fill": {
                            "color": "#C8D4E3"
                          },
                          "line": {
                            "color": "white"
                          }
                        },
                        "type": "table"
                      }
                    ]
                  },
                  "layout": {
                    "annotationdefaults": {
                      "arrowcolor": "#2a3f5f",
                      "arrowhead": 0,
                      "arrowwidth": 1
                    },
                    "autotypenumbers": "strict",
                    "coloraxis": {
                      "colorbar": {
                        "outlinewidth": 0,
                        "ticks": ""
                      }
                    },
                    "colorscale": {
                      "diverging": [
                        [
                          0,
                          "#8e0152"
                        ],
                        [
                          0.1,
                          "#c51b7d"
                        ],
                        [
                          0.2,
                          "#de77ae"
                        ],
                        [
                          0.3,
                          "#f1b6da"
                        ],
                        [
                          0.4,
                          "#fde0ef"
                        ],
                        [
                          0.5,
                          "#f7f7f7"
                        ],
                        [
                          0.6,
                          "#e6f5d0"
                        ],
                        [
                          0.7,
                          "#b8e186"
                        ],
                        [
                          0.8,
                          "#7fbc41"
                        ],
                        [
                          0.9,
                          "#4d9221"
                        ],
                        [
                          1,
                          "#276419"
                        ]
                      ],
                      "sequential": [
                        [
                          0,
                          "#0d0887"
                        ],
                        [
                          0.1111111111111111,
                          "#46039f"
                        ],
                        [
                          0.2222222222222222,
                          "#7201a8"
                        ],
                        [
                          0.3333333333333333,
                          "#9c179e"
                        ],
                        [
                          0.4444444444444444,
                          "#bd3786"
                        ],
                        [
                          0.5555555555555556,
                          "#d8576b"
                        ],
                        [
                          0.6666666666666666,
                          "#ed7953"
                        ],
                        [
                          0.7777777777777778,
                          "#fb9f3a"
                        ],
                        [
                          0.8888888888888888,
                          "#fdca26"
                        ],
                        [
                          1,
                          "#f0f921"
                        ]
                      ],
                      "sequentialminus": [
                        [
                          0,
                          "#0d0887"
                        ],
                        [
                          0.1111111111111111,
                          "#46039f"
                        ],
                        [
                          0.2222222222222222,
                          "#7201a8"
                        ],
                        [
                          0.3333333333333333,
                          "#9c179e"
                        ],
                        [
                          0.4444444444444444,
                          "#bd3786"
                        ],
                        [
                          0.5555555555555556,
                          "#d8576b"
                        ],
                        [
                          0.6666666666666666,
                          "#ed7953"
                        ],
                        [
                          0.7777777777777778,
                          "#fb9f3a"
                        ],
                        [
                          0.8888888888888888,
                          "#fdca26"
                        ],
                        [
                          1,
                          "#f0f921"
                        ]
                      ]
                    },
                    "colorway": [
                      "#636efa",
                      "#EF553B",
                      "#00cc96",
                      "#ab63fa",
                      "#FFA15A",
                      "#19d3f3",
                      "#FF6692",
                      "#B6E880",
                      "#FF97FF",
                      "#FECB52"
                    ],
                    "font": {
                      "color": "#2a3f5f"
                    },
                    "geo": {
                      "bgcolor": "white",
                      "lakecolor": "white",
                      "landcolor": "#E5ECF6",
                      "showlakes": true,
                      "showland": true,
                      "subunitcolor": "white"
                    },
                    "hoverlabel": {
                      "align": "left"
                    },
                    "hovermode": "closest",
                    "mapbox": {
                      "style": "light"
                    },
                    "paper_bgcolor": "white",
                    "plot_bgcolor": "#E5ECF6",
                    "polar": {
                      "angularaxis": {
                        "gridcolor": "white",
                        "linecolor": "white",
                        "ticks": ""
                      },
                      "bgcolor": "#E5ECF6",
                      "radialaxis": {
                        "gridcolor": "white",
                        "linecolor": "white",
                        "ticks": ""
                      }
                    },
                    "scene": {
                      "xaxis": {
                        "backgroundcolor": "#E5ECF6",
                        "gridcolor": "white",
                        "gridwidth": 2,
                        "linecolor": "white",
                        "showbackground": true,
                        "ticks": "",
                        "zerolinecolor": "white"
                      },
                      "yaxis": {
                        "backgroundcolor": "#E5ECF6",
                        "gridcolor": "white",
                        "gridwidth": 2,
                        "linecolor": "white",
                        "showbackground": true,
                        "ticks": "",
                        "zerolinecolor": "white"
                      },
                      "zaxis": {
                        "backgroundcolor": "#E5ECF6",
                        "gridcolor": "white",
                        "gridwidth": 2,
                        "linecolor": "white",
                        "showbackground": true,
                        "ticks": "",
                        "zerolinecolor": "white"
                      }
                    },
                    "shapedefaults": {
                      "line": {
                        "color": "#2a3f5f"
                      }
                    },
                    "ternary": {
                      "aaxis": {
                        "gridcolor": "white",
                        "linecolor": "white",
                        "ticks": ""
                      },
                      "baxis": {
                        "gridcolor": "white",
                        "linecolor": "white",
                        "ticks": ""
                      },
                      "bgcolor": "#E5ECF6",
                      "caxis": {
                        "gridcolor": "white",
                        "linecolor": "white",
                        "ticks": ""
                      }
                    },
                    "title": {
                      "x": 0.05
                    },
                    "xaxis": {
                      "automargin": true,
                      "gridcolor": "white",
                      "linecolor": "white",
                      "ticks": "",
                      "title": {
                        "standoff": 15
                      },
                      "zerolinecolor": "white",
                      "zerolinewidth": 2
                    },
                    "yaxis": {
                      "automargin": true,
                      "gridcolor": "white",
                      "linecolor": "white",
                      "ticks": "",
                      "title": {
                        "standoff": 15
                      },
                      "zerolinecolor": "white",
                      "zerolinewidth": 2
                    }
                  }
                },
                "title": {
                  "text": "First 3 pricipal components of PathologyGAN's PCA feature"
                }
              }
            }
          },
          "metadata": {},
          "output_type": "display_data"
        }
      ],
      "source": [
        "traces = []\n",
        "for name in np.unique(labels):\n",
        "    trace = go.Scatter3d(\n",
        "        x=test_data[test_label==name,0],\n",
        "        y=test_data[test_label==name,1],\n",
        "        z=test_data[test_label==name,2],\n",
        "        mode='markers',\n",
        "        name=name,\n",
        "        marker=go.scatter3d.Marker(\n",
        "            size=4,\n",
        "            opacity=0.8\n",
        "        )\n",
        "\n",
        "    )\n",
        "    traces.append(trace)\n",
        "\n",
        "\n",
        "data = go.Data(traces)\n",
        "layout = go.Layout(\n",
        "            showlegend=True,\n",
        "    scene=go.Scene(\n",
        "                xaxis=go.layout.scene.XAxis(title='PC1'),\n",
        "                yaxis=go.layout.scene.YAxis(title='PC2'),\n",
        "                zaxis=go.layout.scene.ZAxis(title='PC3')\n",
        "                )\n",
        ")\n",
        "fig = go.Figure(data=data, layout=layout)\n",
        "fig.update_layout(\n",
        "    title=\"First 3 pricipal components of PathologyGAN's PCA feature\",\n",
        "    legend_title=\"Legend Title\",\n",
        ")\n",
        "\n",
        "fig.show()\n"
      ]
    },
    {
      "cell_type": "markdown",
      "metadata": {
        "id": "iudNQnOwMAq5"
      },
      "source": [
        "### Model training"
      ]
    },
    {
      "cell_type": "code",
      "execution_count": 14,
      "metadata": {
        "id": "IWXKU_bDMAq6"
      },
      "outputs": [],
      "source": [
        "from sklearn.cluster import KMeans\n",
        "from sklearn.mixture import GaussianMixture\n",
        "from sklearn.cluster import AgglomerativeClustering\n",
        "from sknetwork.clustering import Louvain\n"
      ]
    },
    {
      "cell_type": "code",
      "execution_count": 15,
      "metadata": {
        "id": "sGoz9JGEMAq6"
      },
      "outputs": [],
      "source": [
        "#to create Adjacency matrix for  Louvain clustering\n",
        "from sklearn.metrics import pairwise_distances\n",
        "from sklearn.preprocessing import MinMaxScaler\n"
      ]
    },
    {
      "cell_type": "code",
      "execution_count": 16,
      "metadata": {
        "colab": {
          "base_uri": "https://localhost:8080/"
        },
        "id": "cT3ljGl3MAq6",
        "outputId": "63bcb46d-8ff5-4dcf-97c6-811afef0337e"
      },
      "outputs": [
        {
          "name": "stderr",
          "output_type": "stream",
          "text": [
            "/Users/jojotitichaya/Downloads/case_study_1/venv/lib/python3.11/site-packages/sklearn/cluster/_kmeans.py:1416: FutureWarning:\n",
            "\n",
            "The default value of `n_init` will change from 10 to 'auto' in 1.4. Set the value of `n_init` explicitly to suppress the warning\n",
            "\n"
          ]
        }
      ],
      "source": [
        "kmeans_model = KMeans(n_clusters = 3, random_state = 0) #GaussianMixture(), AgglomerativeClustering(), Louvain\n",
        "kmeans_assignment = kmeans_model.fit_predict(test_data)"
      ]
    },
    {
      "cell_type": "code",
      "execution_count": 17,
      "metadata": {
        "id": "3ghSsrYGMAq6"
      },
      "outputs": [],
      "source": [
        "from scipy import sparse\n",
        "louvain_model = Louvain(resolution = 0.9, modularity = 'Newman',random_state = 0)\n",
        "adjacency_matrix = sparse.csr_matrix(MinMaxScaler().fit_transform(-pairwise_distances(test_data)))\n",
        "louvain_assignment = louvain_model.fit_predict(adjacency_matrix)"
      ]
    },
    {
      "cell_type": "markdown",
      "metadata": {
        "id": "1tfEx1ecMAq6"
      },
      "source": [
        "### Evaluation and Visualisation"
      ]
    },
    {
      "cell_type": "code",
      "execution_count": 18,
      "metadata": {
        "id": "8wQbG1V1MAq7"
      },
      "outputs": [],
      "source": [
        "import matplotlib.pyplot as plt\n",
        "from sklearn.metrics import silhouette_score, v_measure_score\n",
        "from sklearn.model_selection import KFold, train_test_split"
      ]
    },
    {
      "cell_type": "markdown",
      "metadata": {
        "id": "odOKmvxJMAq7"
      },
      "source": [
        "* check out number of clusters/cluster assignment counts"
      ]
    },
    {
      "cell_type": "code",
      "execution_count": 19,
      "metadata": {
        "colab": {
          "base_uri": "https://localhost:8080/"
        },
        "id": "JJK8VyY2MAq7",
        "outputId": "892fbd7b-2f61-4926-85c8-3415d7c44aa7"
      },
      "outputs": [
        {
          "name": "stdout",
          "output_type": "stream",
          "text": [
            "Number of clusters from KMeans: 3 and from Louvain: 3\n"
          ]
        }
      ],
      "source": [
        "print('Number of clusters from KMeans: %d and from Louvain: %d'%(np.unique(kmeans_assignment).shape[0],np.unique(louvain_assignment).shape[0]))"
      ]
    },
    {
      "cell_type": "code",
      "execution_count": 20,
      "metadata": {
        "id": "bSTKunF9MAq7"
      },
      "outputs": [],
      "source": [
        "kmeans_counts = np.unique(kmeans_assignment, return_counts = True)\n",
        "louvain_counts = np.unique(louvain_assignment, return_counts = True)"
      ]
    },
    {
      "cell_type": "code",
      "execution_count": 21,
      "metadata": {
        "colab": {
          "base_uri": "https://localhost:8080/",
          "height": 190
        },
        "id": "CmQyu2ZsMAq7",
        "outputId": "613ca1d3-55a1-4904-83ea-f24123b44373"
      },
      "outputs": [
        {
          "name": "stdout",
          "output_type": "stream",
          "text": [
            "Kmeans assignment counts\n"
          ]
        },
        {
          "data": {
            "text/html": [
              "<div>\n",
              "<style scoped>\n",
              "    .dataframe tbody tr th:only-of-type {\n",
              "        vertical-align: middle;\n",
              "    }\n",
              "\n",
              "    .dataframe tbody tr th {\n",
              "        vertical-align: top;\n",
              "    }\n",
              "\n",
              "    .dataframe thead th {\n",
              "        text-align: right;\n",
              "    }\n",
              "</style>\n",
              "<table border=\"1\" class=\"dataframe\">\n",
              "  <thead>\n",
              "    <tr style=\"text-align: right;\">\n",
              "      <th></th>\n",
              "      <th>Number of members</th>\n",
              "    </tr>\n",
              "    <tr>\n",
              "      <th>Cluster Index</th>\n",
              "      <th></th>\n",
              "    </tr>\n",
              "  </thead>\n",
              "  <tbody>\n",
              "    <tr>\n",
              "      <th>0</th>\n",
              "      <td>112</td>\n",
              "    </tr>\n",
              "    <tr>\n",
              "      <th>1</th>\n",
              "      <td>49</td>\n",
              "    </tr>\n",
              "    <tr>\n",
              "      <th>2</th>\n",
              "      <td>39</td>\n",
              "    </tr>\n",
              "  </tbody>\n",
              "</table>\n",
              "</div>"
            ],
            "text/plain": [
              "               Number of members\n",
              "Cluster Index                   \n",
              "0                            112\n",
              "1                             49\n",
              "2                             39"
            ]
          },
          "execution_count": 21,
          "metadata": {},
          "output_type": "execute_result"
        }
      ],
      "source": [
        "print('Kmeans assignment counts')\n",
        "pd.DataFrame({'Cluster Index': kmeans_counts[0], 'Number of members':kmeans_counts[1]}).set_index('Cluster Index')"
      ]
    },
    {
      "cell_type": "code",
      "execution_count": 22,
      "metadata": {
        "colab": {
          "base_uri": "https://localhost:8080/",
          "height": 190
        },
        "id": "Bpy9d07tMAq8",
        "outputId": "d1a3399c-6c65-4240-f410-dd37d593140c"
      },
      "outputs": [
        {
          "name": "stdout",
          "output_type": "stream",
          "text": [
            "Louvain assignment counts\n"
          ]
        },
        {
          "data": {
            "text/html": [
              "<div>\n",
              "<style scoped>\n",
              "    .dataframe tbody tr th:only-of-type {\n",
              "        vertical-align: middle;\n",
              "    }\n",
              "\n",
              "    .dataframe tbody tr th {\n",
              "        vertical-align: top;\n",
              "    }\n",
              "\n",
              "    .dataframe thead th {\n",
              "        text-align: right;\n",
              "    }\n",
              "</style>\n",
              "<table border=\"1\" class=\"dataframe\">\n",
              "  <thead>\n",
              "    <tr style=\"text-align: right;\">\n",
              "      <th></th>\n",
              "      <th>Number of members</th>\n",
              "    </tr>\n",
              "    <tr>\n",
              "      <th>Cluster Index</th>\n",
              "      <th></th>\n",
              "    </tr>\n",
              "  </thead>\n",
              "  <tbody>\n",
              "    <tr>\n",
              "      <th>0</th>\n",
              "      <td>132</td>\n",
              "    </tr>\n",
              "    <tr>\n",
              "      <th>1</th>\n",
              "      <td>67</td>\n",
              "    </tr>\n",
              "    <tr>\n",
              "      <th>2</th>\n",
              "      <td>1</td>\n",
              "    </tr>\n",
              "  </tbody>\n",
              "</table>\n",
              "</div>"
            ],
            "text/plain": [
              "               Number of members\n",
              "Cluster Index                   \n",
              "0                            132\n",
              "1                             67\n",
              "2                              1"
            ]
          },
          "execution_count": 22,
          "metadata": {},
          "output_type": "execute_result"
        }
      ],
      "source": [
        "print('Louvain assignment counts')\n",
        "pd.DataFrame({'Cluster Index': louvain_counts[0], 'Number of members':louvain_counts[1]}).set_index('Cluster Index')"
      ]
    },
    {
      "cell_type": "markdown",
      "metadata": {
        "id": "0mPw8PttMAq8"
      },
      "source": [
        "* Assess goodness of fit by silhouette score and cluster homogeneities by V-measure"
      ]
    },
    {
      "cell_type": "code",
      "execution_count": 23,
      "metadata": {
        "colab": {
          "base_uri": "https://localhost:8080/",
          "height": 142
        },
        "id": "ZSbzoyJ_MAq8",
        "outputId": "19e14067-48f0-4c9e-88a1-85aec42b1542"
      },
      "outputs": [
        {
          "data": {
            "text/html": [
              "<div>\n",
              "<style scoped>\n",
              "    .dataframe tbody tr th:only-of-type {\n",
              "        vertical-align: middle;\n",
              "    }\n",
              "\n",
              "    .dataframe tbody tr th {\n",
              "        vertical-align: top;\n",
              "    }\n",
              "\n",
              "    .dataframe thead th {\n",
              "        text-align: right;\n",
              "    }\n",
              "</style>\n",
              "<table border=\"1\" class=\"dataframe\">\n",
              "  <thead>\n",
              "    <tr style=\"text-align: right;\">\n",
              "      <th></th>\n",
              "      <th>Kmeans</th>\n",
              "      <th>Louvain</th>\n",
              "    </tr>\n",
              "    <tr>\n",
              "      <th>Metrics</th>\n",
              "      <th></th>\n",
              "      <th></th>\n",
              "    </tr>\n",
              "  </thead>\n",
              "  <tbody>\n",
              "    <tr>\n",
              "      <th>silhouette</th>\n",
              "      <td>0.198873</td>\n",
              "      <td>0.246675</td>\n",
              "    </tr>\n",
              "    <tr>\n",
              "      <th>V-measure</th>\n",
              "      <td>0.262987</td>\n",
              "      <td>0.270140</td>\n",
              "    </tr>\n",
              "  </tbody>\n",
              "</table>\n",
              "</div>"
            ],
            "text/plain": [
              "              Kmeans   Louvain\n",
              "Metrics                       \n",
              "silhouette  0.198873  0.246675\n",
              "V-measure   0.262987  0.270140"
            ]
          },
          "execution_count": 23,
          "metadata": {},
          "output_type": "execute_result"
        }
      ],
      "source": [
        "kmeans_silhouette = silhouette_score(test_data, kmeans_assignment)\n",
        "louvain_silhouette = silhouette_score(test_data, louvain_assignment)\n",
        "kmeans_v_measure = v_measure_score(test_label, kmeans_assignment)\n",
        "louvain_v_measure = v_measure_score(test_label, louvain_assignment)\n",
        "pd.DataFrame({'Metrics': ['silhouette', 'V-measure'], 'Kmeans': [kmeans_silhouette, kmeans_v_measure], 'Louvain':[louvain_silhouette, louvain_v_measure]}).set_index('Metrics')"
      ]
    },
    {
      "cell_type": "markdown",
      "metadata": {
        "id": "j-oiSYbjMAq8"
      },
      "source": [
        "* Visualise tissue type percentage in two different clustering configurations"
      ]
    },
    {
      "cell_type": "code",
      "execution_count": 24,
      "metadata": {
        "id": "yyJ6D-6vMAq9"
      },
      "outputs": [],
      "source": [
        "def calculate_percent(sub_df, attrib):\n",
        "    cnt = sub_df[attrib].count()\n",
        "    output_sub_df = sub_df.groupby(attrib).count()\n",
        "    return (output_sub_df/cnt)"
      ]
    },
    {
      "cell_type": "code",
      "execution_count": 25,
      "metadata": {
        "colab": {
          "base_uri": "https://localhost:8080/",
          "height": 275
        },
        "id": "sOo8ybHtMAq9",
        "outputId": "3b89c4b0-7219-469f-9080-2ac1d9f1c9e5"
      },
      "outputs": [
        {
          "name": "stderr",
          "output_type": "stream",
          "text": [
            "/var/folders/pv/_9ndz20s1819l5gdqpjk79240000gn/T/ipykernel_63195/3428919821.py:27: UserWarning:\n",
            "\n",
            "FigureCanvasAgg is non-interactive, and thus cannot be shown\n",
            "\n"
          ]
        },
        {
          "data": {
            "image/png": "[encoded data removed]",
            "text/plain": [
              "<Figure size 2000x500 with 2 Axes>"
            ]
          },
          "metadata": {},
          "output_type": "display_data"
        }
      ],
      "source": [
        "resulted_cluster_df = pd.DataFrame({'clusterID': kmeans_assignment, 'type': test_label})\n",
        "label_proportion_df = resulted_cluster_df.groupby(['clusterID']).apply(lambda x: calculate_percent(x,'type')).rename(columns={'clusterID':'type_occurrence_percentage'}).reset_index()\n",
        "pivoted_label_proportion_df = pd.pivot_table(label_proportion_df, index = 'clusterID', columns = 'type', values = 'type_occurrence_percentage')\n",
        "\n",
        "\n",
        "f, axes = plt.subplots(1, 2, figsize=(20,5))\n",
        "number_of_tile_df = resulted_cluster_df.groupby('clusterID')['type'].count().reset_index().rename(columns={'type':'number_of_tile'})\n",
        "df_idx = pivoted_label_proportion_df.index\n",
        "(pivoted_label_proportion_df*100).loc[df_idx].plot.bar(stacked=True, ax = axes[0] )\n",
        "\n",
        "axes[0].set_ylabel('Percentage of tissue type')\n",
        "axes[0].legend(loc='upper right')\n",
        "axes[0].set_title('Cluster configuration by Kmeans')\n",
        "\n",
        "resulted_cluster_df = pd.DataFrame({'clusterID': louvain_assignment, 'type': test_label})\n",
        "label_proportion_df = resulted_cluster_df.groupby(['clusterID']).apply(lambda x: calculate_percent(x,'type')).rename(columns={'clusterID':'type_occurrence_percentage'}).reset_index()\n",
        "pivoted_label_proportion_df = pd.pivot_table(label_proportion_df, index = 'clusterID', columns = 'type', values = 'type_occurrence_percentage')\n",
        "\n",
        "\n",
        "number_of_tile_df = resulted_cluster_df.groupby('clusterID')['type'].count().reset_index().rename(columns={'type':'number_of_tile'})\n",
        "df_idx = pivoted_label_proportion_df.index\n",
        "(pivoted_label_proportion_df*100).loc[df_idx].plot.bar(stacked=True, ax = axes[1] )\n",
        "\n",
        "axes[1].set_ylabel('Percentage of tissue type')\n",
        "axes[1].legend(loc='upper right')\n",
        "axes[1].set_title('Cluster configuration by Louvain')\n",
        "f.show()"
      ]
    },
    {
      "cell_type": "markdown",
      "metadata": {
        "id": "YoLb-xOdNWtx"
      },
      "source": [
        "# Preparing the dataset for PathologyGAN (PGE) and ResNet50\n",
        "\n"
      ]
    },
    {
      "cell_type": "code",
      "execution_count": 26,
      "metadata": {
        "id": "UqhtAhgwNuHg"
      },
      "outputs": [],
      "source": [
        "#PCA feature from 2 feature sets: pge_latent, resnet50_latent\n",
        "pge_pca_feature  = pge_content['pca_feature'][...]\n",
        "resnet50_pca_feature  = resnet50_content['pca_feature'][...]\n",
        "\n",
        "#UMAP feature from 2 feature sets: pge_latent, resnet50_latent\n",
        "pge_umap_feature  = pge_content['umap_feature'][...]\n",
        "resnet50_umap_feature = resnet50_content['umap_feature'][...]\n",
        "\n",
        "#PGE test data\n",
        "test_data_pge_pca = pge_pca_feature\n",
        "test_data_pge_umap = pge_umap_feature\n",
        "\n",
        "#PGE labels\n",
        "filename_pge  = np.squeeze(pge_content['file_name'])\n",
        "filename_pge = np.array([str(x) for x in filename_pge])\n",
        "labels_pge = np.array([x.split('/')[2] for x in filename_pge])\n",
        "\n",
        "#Resnet50 test data\n",
        "test_data_resnet50_pca = resnet50_pca_feature\n",
        "test_data_resnet50_umap = resnet50_umap_feature\n",
        "\n",
        "#Resnet50 labels\n",
        "filename_resnet50 = np.squeeze(resnet50_content['file_name'])\n",
        "filename_resnet50 = np.array([str(x) for x in filename_resnet50])\n",
        "labels_resnet50 = np.array([x.split('/')[2] for x in filename_resnet50])"
      ]
    },
    {
      "cell_type": "markdown",
      "metadata": {
        "id": "wCK9ngWOQ1e-"
      },
      "source": [
        "# K-Means Clustering"
      ]
    },
    {
      "cell_type": "markdown",
      "metadata": {
        "id": "0fLZ0cLiQ_Ld"
      },
      "source": [
        "Training the model using N=2...30 to find the optimal number of cluster using the Elbow method."
      ]
    },
    {
      "cell_type": "code",
      "execution_count": 27,
      "metadata": {
        "id": "MkjOxOLmRPNz"
      },
      "outputs": [],
      "source": [
        "from sklearn.cluster import KMeans\n",
        "from sknetwork.clustering import get_modularity"
      ]
    },
    {
      "cell_type": "code",
      "execution_count": 28,
      "metadata": {
        "id": "VsA_oJ7uYmJC"
      },
      "outputs": [],
      "source": [
        "def train_squared_KMeans(test_data, k_max = 30, sum_list = [], ylabel = 'PCA', xlabel = 'PGE'):\n",
        "  K = list(range(2,k_max))\n",
        "  \n",
        "  for k in K:\n",
        "      km = KMeans(k)\n",
        "      km_fitted = km.fit(test_data)\n",
        "      sum_list.append(km_fitted.inertia_)\n",
        "\n",
        "def train_squared(test_data, sum_list = [], ylabel = 'PCA', xlabel = 'PGE', Model=KMeans, **param):\n",
        "  \n",
        "  if Model is KMeans:\n",
        "    K = list(range(2, param['n_clusters']))\n",
        "\n",
        "    for k in K:\n",
        "      model = Model(n_clusters=k, n_init=10)\n",
        "      model_fitted = model.fit(test_data)\n",
        "      sum_list.append([k,model_fitted.inertia_])\n",
        "      # print(sum_list)\n",
        "\n",
        "  elif Model is AgglomerativeClustering:\n",
        "    # print(param)\n",
        "    K = list(range(2,param['n_clusters']))\n",
        "    \n",
        "    for k in K:\n",
        "      model = Model(n_clusters=k, metric=param['affinity'], linkage=param['linkage'])\n",
        "      model_fitted = model.fit_predict(test_data)\n",
        "      sum_list.append([k,silhouette_score(test_data, model_fitted)])\n",
        "\n",
        "  elif Model is Louvain:\n",
        "    K = np.arange(0.9, 1.1, 0.025)\n",
        "    for r in K:\n",
        "      # print(r)\n",
        "      louvain_model = Louvain(resolution = r)\n",
        "      adjacency_matrix = sparse.csr_matrix(MinMaxScaler().fit_transform(-pairwise_distances(test_data)))\n",
        "      louvain_assignment = louvain_model.fit_predict(adjacency_matrix)\n",
        "      louvain_counts = np.unique(louvain_assignment, return_counts = True)\n",
        "      # modularity_score = louvain_model\n",
        "      modularity_score = get_modularity(adjacency_matrix, louvain_assignment)\n",
        "\n",
        "      ##append score of louvain\n",
        "      sum_list.append([r,modularity_score])\n",
        "    # print(sum_list)\n",
        "  plt.plot(K, [i[1] for i in sum_list], 'bo-')\n",
        "  plt.xlabel('k')\n",
        "  plt.ylabel(f'sum_of_squared_distances {ylabel}')\n",
        "  plt.title(f'Elbow Method For Optimal k using {xlabel}')\n",
        "  plt.show()"
      ]
    },
    {
      "cell_type": "code",
      "execution_count": 29,
      "metadata": {},
      "outputs": [
        {
          "data": {
            "image/png": "[encoded data removed]",
            "text/plain": [
              "<Figure size 640x480 with 1 Axes>"
            ]
          },
          "metadata": {},
          "output_type": "display_data"
        },
        {
          "data": {
            "image/png": "[encoded data removed]",
            "text/plain": [
              "<Figure size 640x480 with 1 Axes>"
            ]
          },
          "metadata": {},
          "output_type": "display_data"
        },
        {
          "data": {
            "image/png": "[encoded data removed]",
            "text/plain": [
              "<Figure size 640x480 with 1 Axes>"
            ]
          },
          "metadata": {},
          "output_type": "display_data"
        },
        {
          "data": {
            "image/png": "[encoded data removed]",
            "text/plain": [
              "<Figure size 640x480 with 1 Axes>"
            ]
          },
          "metadata": {},
          "output_type": "display_data"
        }
      ],
      "source": [
        "# KMeans PGE\n",
        "pge_pca_kmean_score = [] # PCA\n",
        "pge_umap_kmean_score = [] # UMAP\n",
        "\n",
        "# KMeans ResNet50\n",
        "resnet_pca_kmean_score = [] # PCA\n",
        "resnet_umap_kmean_score = [] # UMAP\n",
        "\n",
        "# Kmean\n",
        "train_squared(test_data_pge_pca, pge_pca_kmean_score, 'PCA', 'PGE', KMeans, n_clusters=30) # PGE PCA\n",
        "train_squared(test_data_pge_umap, pge_umap_kmean_score, 'UMAP', 'PGE', KMeans, n_clusters=30) # PGE UMAP\n",
        "\n",
        "train_squared(test_data_resnet50_pca, resnet_pca_kmean_score, 'PCA', 'ResNet50', KMeans, n_clusters=30) # ResNet50 PCA\n",
        "train_squared(test_data_resnet50_umap, resnet_umap_kmean_score, 'UMAP', 'ResNet50', KMeans, n_clusters=30) # ResNet50 UMAP"
      ]
    },
    {
      "cell_type": "code",
      "execution_count": 30,
      "metadata": {},
      "outputs": [
        {
          "name": "stdout",
          "output_type": "stream",
          "text": [
            "[2, 71638.78125] [3, 62970.86328125] [4, 58730.2578125]\n"
          ]
        }
      ],
      "source": [
        "x = [[2, 71638.78125], [3, 62970.86328125], [4, 58730.2578125]]\n",
        "print(*x)"
      ]
    },
    {
      "cell_type": "code",
      "execution_count": 31,
      "metadata": {},
      "outputs": [
        {
          "data": {
            "image/png": "[encoded data removed]",
            "text/plain": [
              "<Figure size 640x480 with 1 Axes>"
            ]
          },
          "metadata": {},
          "output_type": "display_data"
        },
        {
          "data": {
            "image/png": "[encoded data removed]",
            "text/plain": [
              "<Figure size 640x480 with 1 Axes>"
            ]
          },
          "metadata": {},
          "output_type": "display_data"
        },
        {
          "data": {
            "image/png": "[encoded data removed]",
            "text/plain": [
              "<Figure size 640x480 with 1 Axes>"
            ]
          },
          "metadata": {},
          "output_type": "display_data"
        },
        {
          "data": {
            "image/png": "[encoded data removed]",
            "text/plain": [
              "<Figure size 640x480 with 1 Axes>"
            ]
          },
          "metadata": {},
          "output_type": "display_data"
        }
      ],
      "source": [
        "# Hierarchical PGE\n",
        "pge_pca_hier_score = [] # PCA\n",
        "pge_umap_hier_score = [] # UMAP\n",
        "\n",
        "# Hierarchical ResNet50\n",
        "resnet_pca_hier_score = [] # PCA\n",
        "resnet_umap_hier_score = [] # UMAP\n",
        "\n",
        "# Hierarchical\n",
        "train_squared(test_data_pge_pca, pge_pca_hier_score, 'PCA', 'PGE', AgglomerativeClustering, n_clusters=30, affinity='euclidean', linkage='single') # PGE PCA\n",
        "train_squared(test_data_pge_umap, pge_umap_hier_score, 'UMAP', 'PGE', AgglomerativeClustering, n_clusters=30, affinity='euclidean', linkage='single') # PGE UMAP\n",
        "\n",
        "train_squared(test_data_resnet50_pca, resnet_pca_hier_score, 'PCA', 'ResNet50', AgglomerativeClustering, n_clusters=30, affinity='euclidean', linkage='single') # ResNet50 PCA\n",
        "train_squared(test_data_resnet50_umap, resnet_umap_hier_score, 'UMAP', 'ResNet50', AgglomerativeClustering, n_clusters=30, affinity='euclidean', linkage='single') # ResNet50 UMAP\n"
      ]
    },
    {
      "cell_type": "code",
      "execution_count": 32,
      "metadata": {},
      "outputs": [
        {
          "data": {
            "image/png": "[encoded data removed]",
            "text/plain": [
              "<Figure size 640x480 with 1 Axes>"
            ]
          },
          "metadata": {},
          "output_type": "display_data"
        },
        {
          "data": {
            "image/png": "[encoded data removed]",
            "text/plain": [
              "<Figure size 640x480 with 1 Axes>"
            ]
          },
          "metadata": {},
          "output_type": "display_data"
        },
        {
          "data": {
            "image/png": "[encoded data removed]",
            "text/plain": [
              "<Figure size 640x480 with 1 Axes>"
            ]
          },
          "metadata": {},
          "output_type": "display_data"
        },
        {
          "data": {
            "image/png": "[encoded data removed]",
            "text/plain": [
              "<Figure size 640x480 with 1 Axes>"
            ]
          },
          "metadata": {},
          "output_type": "display_data"
        }
      ],
      "source": [
        "# Louvain PGE\n",
        "pge_pca_louvain_score = [] # PCA\n",
        "pge_umap_louvain_score = [] # UMAP\n",
        "\n",
        "# Louvain ResNet50\n",
        "resnet_pca_louvain_score = [] # PCA\n",
        "resnet_umap_louvain_score = [] # UMAP\n",
        "\n",
        "# Louvain\n",
        "train_squared(test_data_pge_pca, pge_pca_louvain_score, 'PCA', 'PGE', Louvain) # PGE PCA\n",
        "train_squared(test_data_pge_umap, pge_umap_louvain_score, 'UMAP', 'PGE', Louvain) # PGE UMAP\n",
        "\n",
        "train_squared(test_data_resnet50_pca, resnet_pca_louvain_score, 'PCA', 'ResNet50', Louvain) # ResNet50 PCA\n",
        "train_squared(test_data_resnet50_umap, resnet_umap_louvain_score, 'UMAP', 'ResNet50', Louvain) # ResNet50 UMAP"
      ]
    },
    {
      "cell_type": "markdown",
      "metadata": {
        "id": "y6h3nmRSUCHh"
      },
      "source": [
        "## Evaluation and Visualizing"
      ]
    },
    {
      "cell_type": "markdown",
      "metadata": {
        "id": "3Gv5w5YoUIsQ"
      },
      "source": [
        "We can observe from the above graphs that it is difficult to derive the exact k value using only the Elbow method from the curve. Hence, to get a better measurement, we are also calculating the silhouette score and v-measure to obtain the best k-value for both the feature sets."
      ]
    },
    {
      "cell_type": "markdown",
      "metadata": {
        "id": "GmWShrv4ULmS"
      },
      "source": [
        "Assuming the ground truth labels are not present, we are finding the 'k' using sillhouete score to find which 'k' perfectly fits the data."
      ]
    },
    {
      "cell_type": "markdown",
      "metadata": {},
      "source": [
        "### Intrinsic Measures"
      ]
    },
    {
      "cell_type": "code",
      "execution_count": 33,
      "metadata": {},
      "outputs": [],
      "source": [
        "import pandas as pd\n",
        "import numpy as np\n",
        "from sklearn.cluster import KMeans\n",
        "from joblib import Parallel, delayed\n",
        "from sklearn.preprocessing import MinMaxScaler\n",
        "\n",
        "def kMeansRes(scaled_data, k, alpha_k=0.02):\n",
        "    '''\n",
        "    Parameters \n",
        "    ----------\n",
        "    scaled_data: matrix \n",
        "        scaled data. rows are samples and columns are features for clustering\n",
        "    k: int\n",
        "        current k for applying KMeans\n",
        "    alpha_k: float\n",
        "        manually tuned factor that gives penalty to the number of clusters\n",
        "    Returns \n",
        "    -------\n",
        "    scaled_inertia: float\n",
        "        scaled inertia value for current k           \n",
        "    '''\n",
        "    \n",
        "    inertia_o = np.square((scaled_data - scaled_data.mean(axis=0))).sum()\n",
        "    # fit k-means\n",
        "    kmeans = KMeans(n_clusters=k, random_state=0, n_init=10).fit(scaled_data)\n",
        "    scaled_inertia = kmeans.inertia_ / inertia_o + alpha_k * k\n",
        "    return scaled_inertia\n",
        "\n",
        "def chooseBestKforKMeans(scaled_data, k_range):\n",
        "    ans = []\n",
        "    for k in k_range:\n",
        "        scaled_inertia = kMeansRes(scaled_data, k)\n",
        "        ans.append((k, scaled_inertia))\n",
        "    results = pd.DataFrame(ans, columns = ['k','Scaled Inertia']).set_index('k')\n",
        "    best_k = results.idxmin()[0]\n",
        "    return best_k, results\n",
        "\n",
        "def get_best_kmean(data_for_clustering):\n",
        "    # create data matrix\n",
        "    data_matrix = np.matrix(data_for_clustering).astype(float)\n",
        "    # scale the data\n",
        "    mms = MinMaxScaler()\n",
        "    scaled_data = mms.fit_transform(np.asarray(data_matrix))\n",
        "\n",
        "    # choose k range\n",
        "    k_range=range(2,20)\n",
        "    # compute adjusted intertia\n",
        "    best_k, results = chooseBestKforKMeans(scaled_data, k_range)\n",
        "    # plot the results\n",
        "    print('Best k',best_k)\n",
        "    plt.figure(figsize=(7,4))\n",
        "    plt.plot(results,'o')\n",
        "    plt.title('Adjusted Inertia for each K')\n",
        "    plt.xlabel('K')\n",
        "    plt.ylabel('Adjusted Inertia')\n",
        "    plt.xticks(range(2,20,1))\n",
        "    return best_k"
      ]
    },
    {
      "cell_type": "code",
      "execution_count": 34,
      "metadata": {},
      "outputs": [],
      "source": [
        "def get_best(score_list):\n",
        "    k = [i[0] for i in score_list]\n",
        "    value = [i[1] for i in score_list]\n",
        "    return k[value.index(max(value))]\n"
      ]
    },
    {
      "cell_type": "code",
      "execution_count": 35,
      "metadata": {},
      "outputs": [
        {
          "name": "stderr",
          "output_type": "stream",
          "text": [
            "/var/folders/pv/_9ndz20s1819l5gdqpjk79240000gn/T/ipykernel_63195/897820884.py:35: FutureWarning:\n",
            "\n",
            "Series.__getitem__ treating keys as positions is deprecated. In a future version, integer keys will always be treated as labels (consistent with DataFrame behavior). To access a value by position, use `ser.iloc[pos]`\n",
            "\n"
          ]
        },
        {
          "name": "stdout",
          "output_type": "stream",
          "text": [
            "Best k 2\n"
          ]
        },
        {
          "name": "stderr",
          "output_type": "stream",
          "text": [
            "/var/folders/pv/_9ndz20s1819l5gdqpjk79240000gn/T/ipykernel_63195/897820884.py:35: FutureWarning:\n",
            "\n",
            "Series.__getitem__ treating keys as positions is deprecated. In a future version, integer keys will always be treated as labels (consistent with DataFrame behavior). To access a value by position, use `ser.iloc[pos]`\n",
            "\n"
          ]
        },
        {
          "name": "stdout",
          "output_type": "stream",
          "text": [
            "Best k 11\n"
          ]
        },
        {
          "name": "stderr",
          "output_type": "stream",
          "text": [
            "/var/folders/pv/_9ndz20s1819l5gdqpjk79240000gn/T/ipykernel_63195/897820884.py:35: FutureWarning:\n",
            "\n",
            "Series.__getitem__ treating keys as positions is deprecated. In a future version, integer keys will always be treated as labels (consistent with DataFrame behavior). To access a value by position, use `ser.iloc[pos]`\n",
            "\n"
          ]
        },
        {
          "name": "stdout",
          "output_type": "stream",
          "text": [
            "Best k 2\n",
            "Best k 12\n"
          ]
        },
        {
          "name": "stderr",
          "output_type": "stream",
          "text": [
            "/var/folders/pv/_9ndz20s1819l5gdqpjk79240000gn/T/ipykernel_63195/897820884.py:35: FutureWarning:\n",
            "\n",
            "Series.__getitem__ treating keys as positions is deprecated. In a future version, integer keys will always be treated as labels (consistent with DataFrame behavior). To access a value by position, use `ser.iloc[pos]`\n",
            "\n"
          ]
        },
        {
          "data": {
            "image/png": "[encoded data removed]",
            "text/plain": [
              "<Figure size 700x400 with 1 Axes>"
            ]
          },
          "metadata": {},
          "output_type": "display_data"
        },
        {
          "data": {
            "image/png": "[encoded data removed]",
            "text/plain": [
              "<Figure size 700x400 with 1 Axes>"
            ]
          },
          "metadata": {},
          "output_type": "display_data"
        },
        {
          "data": {
            "image/png": "[encoded data removed]",
            "text/plain": [
              "<Figure size 700x400 with 1 Axes>"
            ]
          },
          "metadata": {},
          "output_type": "display_data"
        },
        {
          "data": {
            "image/png": "[encoded data removed]",
            "text/plain": [
              "<Figure size 700x400 with 1 Axes>"
            ]
          },
          "metadata": {},
          "output_type": "display_data"
        }
      ],
      "source": [
        "best_k_pge_pca_kmean = get_best_kmean(test_data_pge_pca)\n",
        "best_k_pge_umap_kmean = get_best_kmean(test_data_pge_umap)\n",
        "\n",
        "best_k_resnet_pca_kmean = get_best_kmean(test_data_resnet50_pca)\n",
        "best_k_resnet_umap_kmean = get_best_kmean(test_data_resnet50_umap)\n",
        "\n",
        "\n",
        "best_k_pge_pca_hier = get_best(pge_pca_hier_score)\n",
        "best_k_pge_umap_hier = get_best(pge_umap_hier_score)\n",
        "\n",
        "best_k_resnet_pca_hier = get_best(resnet_pca_hier_score)\n",
        "best_k_resnet_umap_hier = get_best(resnet_umap_hier_score)\n",
        "\n",
        "\n",
        "best_r_pge_pca_louvain = get_best(pge_pca_louvain_score)\n",
        "best_r_pge_umap_louvain = get_best(pge_umap_louvain_score)\n",
        "\n",
        "best_r_resnet_pca_louvain = get_best(resnet_pca_louvain_score)\n",
        "best_r_resnet_umap_louvain = get_best(resnet_umap_louvain_score)\n"
      ]
    },
    {
      "cell_type": "markdown",
      "metadata": {},
      "source": [
        "After using an equation to automatical determine the most suitable number of cluster for KMeans clustering algorithm its seems to be a conflict between manual and automate of PCA test data ones, while we our best k is exactly the same to automate ones of UMAP but PCA. In other word, we agreed that PCA data relationships can't be distinguish by KMeans clustering algorithm. Nevertheless, we considered to keep going with our manual consideration for best k cluster number."
      ]
    },
    {
      "cell_type": "code",
      "execution_count": 36,
      "metadata": {},
      "outputs": [],
      "source": [
        "best_k_pge_pca_kmean = 14\n",
        "\n",
        "best_k_resnet_pca_kmean = 13"
      ]
    },
    {
      "cell_type": "markdown",
      "metadata": {},
      "source": [
        "#### Silhouette Coefficient"
      ]
    },
    {
      "cell_type": "code",
      "execution_count": 62,
      "metadata": {},
      "outputs": [],
      "source": [
        "from sklearn.metrics import davies_bouldin_score\n",
        "from sklearn.metrics import rand_score\n",
        "def metric_calculation(metric,test_data, best_param = 2, Model=KMeans, **param):  \n",
        "\n",
        "    if Model is KMeans:\n",
        "        model = Model(n_clusters=best_param, n_init=10)\n",
        "        model_fitted = model.fit_predict(test_data)\n",
        "\n",
        "    elif Model is AgglomerativeClustering:\n",
        "        model = Model(n_clusters=best_param, metric='euclidean', linkage='single')\n",
        "        model_fitted = model.fit_predict(test_data)\n",
        "\n",
        "    elif Model is Louvain:\n",
        "        louvain_model = Louvain(resolution = best_param)\n",
        "        adjacency_matrix = sparse.csr_matrix(MinMaxScaler().fit_transform(-pairwise_distances(test_data)))\n",
        "        model_fitted = louvain_model.fit_predict(adjacency_matrix)\n",
        "\n",
        "    if metric == 'silhouette':\n",
        "        return silhouette_score(test_data, model_fitted)\n",
        "    elif metric == 'davies':\n",
        "        return davies_bouldin_score(test_data, model_fitted)\n",
        "    elif metric == 'rand_pge':\n",
        "        return rand_score(labels_pge, model_fitted)\n",
        "    elif metric == 'rand_resnet':\n",
        "        return rand_score(labels_resnet50, model_fitted)\n",
        "    elif metric == 'v_measure_pge':\n",
        "        return v_measure_score(labels_pge, model_fitted)\n",
        "    elif metric == 'v_measure_resnet':\n",
        "        return v_measure_score(labels_resnet50, model_fitted)\n",
        "        \n",
        "    "
      ]
    },
    {
      "cell_type": "code",
      "execution_count": 38,
      "metadata": {},
      "outputs": [],
      "source": [
        "# PGE\n",
        "silhouette_scores_pca_pge_kmeans = metric_calculation('silhouette', test_data_pge_pca,best_k_pge_pca_kmean,Model=KMeans)\n",
        "silhouette_scores_pca_pge_hier = metric_calculation('silhouette', test_data_pge_pca,best_k_pge_pca_hier,Model=AgglomerativeClustering)\n",
        "silhouette_scores_pca_pge_louvain = metric_calculation('silhouette', test_data_pge_pca,best_r_pge_pca_louvain,Model=Louvain)\n",
        "\n",
        "silhouette_scores_umap_pge_kmeans = metric_calculation('silhouette', test_data_pge_umap,best_k_pge_umap_kmean,Model=KMeans)\n",
        "silhouette_scores_umap_pge_hier = metric_calculation('silhouette', test_data_pge_umap,best_k_pge_umap_hier,Model=AgglomerativeClustering)\n",
        "silhouette_scores_umap_pge_louvain = metric_calculation('silhouette', test_data_pge_umap,best_r_pge_umap_louvain,Model=Louvain)\n",
        "\n",
        "\n",
        "# ResNet50\n",
        "silhouette_scores_pca_resnet_kmeans = metric_calculation('silhouette', test_data_resnet50_pca,best_k_resnet_pca_kmean,Model=KMeans)\n",
        "silhouette_scores_pca_resnet_hier = metric_calculation('silhouette', test_data_resnet50_pca,best_k_resnet_pca_hier,Model=AgglomerativeClustering)\n",
        "silhouette_scores_pca_resnet_louvain = metric_calculation('silhouette', test_data_resnet50_pca,best_r_resnet_pca_louvain,Model=Louvain)\n",
        "\n",
        "silhouette_scores_umap_resnet_kmeans = metric_calculation('silhouette', test_data_resnet50_umap,best_k_resnet_umap_kmean,Model=KMeans)\n",
        "silhouette_scores_umap_resnet_hier = metric_calculation('silhouette', test_data_resnet50_umap,best_k_resnet_umap_hier,Model=AgglomerativeClustering)\n",
        "silhouette_scores_umap_resnet_louvain = metric_calculation('silhouette', test_data_resnet50_umap,best_r_resnet_umap_louvain,Model=Louvain)\n"
      ]
    },
    {
      "cell_type": "code",
      "execution_count": 39,
      "metadata": {},
      "outputs": [
        {
          "name": "stdout",
          "output_type": "stream",
          "text": [
            "Silhouette Scores for PCA on PGE with KMeans: 0.12748174\n",
            "Silhouette Scores for PCA on PGE with Hierarchical: 0.34450808\n",
            "Silhouette Scores for PCA on PGE with Louvain: 0.09189911\n",
            "Silhouette Scores for UMAP on PGE with KMeans: 0.55015314\n",
            "Silhouette Scores for UMAP on PGE with Hierarchical: 0.5333726\n",
            "Silhouette Scores for UMAP on PGE with Louvain: 0.49278057\n",
            "Silhouette Scores for PCA on ResNet50 with KMeans: 0.13965847\n",
            "Silhouette Scores for PCA on ResNet50 with Hierarchical: 0.111403994\n",
            "Silhouette Scores for PCA on ResNet50 with Louvain: 0.014929112\n",
            "Silhouette Scores for UMAP on ResNet50 with KMeans: 0.53337353\n",
            "Silhouette Scores for UMAP on ResNet50 with Hierarchical: 0.6662179\n",
            "Silhouette Scores for UMAP on ResNet50 with Louvain: 0.37299815\n"
          ]
        }
      ],
      "source": [
        "print(\"Silhouette Scores for PCA on PGE with KMeans:\", silhouette_scores_pca_pge_kmeans)\n",
        "print(\"Silhouette Scores for PCA on PGE with Hierarchical:\", silhouette_scores_pca_pge_hier)\n",
        "print(\"Silhouette Scores for PCA on PGE with Louvain:\", silhouette_scores_pca_pge_louvain)\n",
        "\n",
        "print(\"Silhouette Scores for UMAP on PGE with KMeans:\", silhouette_scores_umap_pge_kmeans)\n",
        "print(\"Silhouette Scores for UMAP on PGE with Hierarchical:\", silhouette_scores_umap_pge_hier)\n",
        "print(\"Silhouette Scores for UMAP on PGE with Louvain:\", silhouette_scores_umap_pge_louvain)\n",
        "\n",
        "print(\"Silhouette Scores for PCA on ResNet50 with KMeans:\", silhouette_scores_pca_resnet_kmeans)\n",
        "print(\"Silhouette Scores for PCA on ResNet50 with Hierarchical:\", silhouette_scores_pca_resnet_hier)\n",
        "print(\"Silhouette Scores for PCA on ResNet50 with Louvain:\", silhouette_scores_pca_resnet_louvain)\n",
        "\n",
        "print(\"Silhouette Scores for UMAP on ResNet50 with KMeans:\", silhouette_scores_umap_resnet_kmeans)\n",
        "print(\"Silhouette Scores for UMAP on ResNet50 with Hierarchical:\", silhouette_scores_umap_resnet_hier)\n",
        "print(\"Silhouette Scores for UMAP on ResNet50 with Louvain:\", silhouette_scores_umap_resnet_louvain)"
      ]
    },
    {
      "cell_type": "markdown",
      "metadata": {},
      "source": [
        "#### Devies-Bouldin Index"
      ]
    },
    {
      "cell_type": "code",
      "execution_count": 50,
      "metadata": {},
      "outputs": [],
      "source": [
        "# PGE\n",
        "davies_scores_pca_pge_kmeans = metric_calculation('davies', test_data_pge_pca,best_k_pge_pca_kmean,Model=KMeans)\n",
        "davies_scores_pca_pge_hier = metric_calculation('davies', test_data_pge_pca,best_k_pge_pca_hier,Model=AgglomerativeClustering)\n",
        "davies_scores_pca_pge_louvain = metric_calculation('davies', test_data_pge_pca,best_r_pge_pca_louvain,Model=Louvain)\n",
        "\n",
        "davies_scores_umap_pge_kmeans = metric_calculation('davies', test_data_pge_umap,best_k_pge_umap_kmean,Model=KMeans)\n",
        "davies_scores_umap_pge_hier = metric_calculation('davies', test_data_pge_umap,best_k_pge_umap_hier,Model=AgglomerativeClustering)\n",
        "davies_scores_umap_pge_louvain = metric_calculation('davies', test_data_pge_umap,best_r_pge_umap_louvain,Model=Louvain)\n",
        "\n",
        "\n",
        "# ResNet50\n",
        "davies_scores_pca_resnet_kmeans = metric_calculation('davies', test_data_resnet50_pca,best_k_resnet_pca_kmean,Model=KMeans)\n",
        "davies_scores_pca_resnet_hier = metric_calculation('davies', test_data_resnet50_pca,best_k_resnet_pca_hier,Model=AgglomerativeClustering)\n",
        "davies_scores_pca_resnet_louvain = metric_calculation('davies', test_data_resnet50_pca,best_r_resnet_pca_louvain,Model=Louvain)\n",
        "\n",
        "davies_scores_umap_resnet_kmeans = metric_calculation('davies', test_data_resnet50_umap,best_k_resnet_umap_kmean,Model=KMeans)\n",
        "davies_scores_umap_resnet_hier = metric_calculation('davies', test_data_resnet50_umap,best_k_resnet_umap_hier,Model=AgglomerativeClustering)\n",
        "davies_scores_umap_resnet_louvain = metric_calculation('davies', test_data_resnet50_umap,best_r_resnet_umap_louvain,Model=Louvain)\n"
      ]
    },
    {
      "cell_type": "code",
      "execution_count": 41,
      "metadata": {},
      "outputs": [
        {
          "name": "stdout",
          "output_type": "stream",
          "text": [
            "Davies Scores for PCA on PGE with KMeans: 1.8624599891413245\n",
            "Davies Scores for PCA on PGE with Hierarchical: 0.7417079047182548\n",
            "Davies Scores for PCA on PGE with Louvain: 1.935035512835478\n",
            "Davies Scores for UMAP on PGE with KMeans: 0.5883970121605854\n",
            "Davies Scores for UMAP on PGE with Hierarchical: 0.36959168927130875\n",
            "Davies Scores for UMAP on PGE with Louvain: 0.7100678006876513\n",
            "Davies Scores for PCA on ResNet50 with KMeans: 1.999679671435543\n",
            "Davies Scores for PCA on ResNet50 with Hierarchical: 0.8077925909242978\n",
            "Davies Scores for PCA on ResNet50 with Louvain: 2.401859511763125\n",
            "Davies Scores for UMAP on ResNet50 with KMeans: 0.5626714654103139\n",
            "Davies Scores for UMAP on ResNet50 with Hierarchical: 0.28590703874579926\n",
            "Davies Scores for UMAP on ResNet50 with Louvain: 0.8305795184667881\n"
          ]
        }
      ],
      "source": [
        "print(\"Davies Scores for PCA on PGE with KMeans:\", davies_scores_pca_pge_kmeans)\n",
        "print(\"Davies Scores for PCA on PGE with Hierarchical:\", davies_scores_pca_pge_hier)\n",
        "print(\"Davies Scores for PCA on PGE with Louvain:\", davies_scores_pca_pge_louvain)\n",
        "\n",
        "print(\"Davies Scores for UMAP on PGE with KMeans:\", davies_scores_umap_pge_kmeans)\n",
        "print(\"Davies Scores for UMAP on PGE with Hierarchical:\", davies_scores_umap_pge_hier)\n",
        "print(\"Davies Scores for UMAP on PGE with Louvain:\", davies_scores_umap_pge_louvain)\n",
        "\n",
        "print(\"Davies Scores for PCA on ResNet50 with KMeans:\", davies_scores_pca_resnet_kmeans)\n",
        "print(\"Davies Scores for PCA on ResNet50 with Hierarchical:\", davies_scores_pca_resnet_hier)\n",
        "print(\"Davies Scores for PCA on ResNet50 with Louvain:\", davies_scores_pca_resnet_louvain)\n",
        "\n",
        "print(\"Davies Scores for UMAP on ResNet50 with KMeans:\", davies_scores_umap_resnet_kmeans)\n",
        "print(\"Davies Scores for UMAP on ResNet50 with Hierarchical:\", davies_scores_umap_resnet_hier)\n",
        "print(\"Davies Scores for UMAP on ResNet50 with Louvain:\", davies_scores_umap_resnet_louvain)\n"
      ]
    },
    {
      "cell_type": "markdown",
      "metadata": {},
      "source": [
        "### Extrinsic Measures"
      ]
    },
    {
      "cell_type": "markdown",
      "metadata": {},
      "source": [
        "#### Rand Index"
      ]
    },
    {
      "cell_type": "code",
      "execution_count": 60,
      "metadata": {},
      "outputs": [],
      "source": [
        "# PGE\n",
        "rand_scores_pca_pge_kmeans = metric_calculation('rand_pge', test_data_pge_pca,best_k_pge_pca_kmean,Model=KMeans)\n",
        "rand_scores_pca_pge_hier = metric_calculation('rand_pge', test_data_pge_pca,best_k_pge_pca_hier,Model=AgglomerativeClustering)\n",
        "rand_scores_pca_pge_louvain = metric_calculation('rand_pge', test_data_pge_pca,best_r_pge_pca_louvain,Model=Louvain)\n",
        "\n",
        "rand_scores_umap_pge_kmeans = metric_calculation('rand_pge', test_data_pge_umap,best_k_pge_umap_kmean,Model=KMeans)\n",
        "rand_scores_umap_pge_hier = metric_calculation('rand_pge', test_data_pge_umap,best_k_pge_umap_hier,Model=AgglomerativeClustering)\n",
        "rand_scores_umap_pge_louvain = metric_calculation('rand_pge', test_data_pge_umap,best_r_pge_umap_louvain,Model=Louvain)\n",
        "\n",
        "\n",
        "# ResNet50\n",
        "rand_scores_pca_resnet_kmeans = metric_calculation('rand_resnet', test_data_resnet50_pca,best_k_resnet_pca_kmean,Model=KMeans)\n",
        "rand_scores_pca_resnet_hier = metric_calculation('rand_resnet', test_data_resnet50_pca,best_k_resnet_pca_hier,Model=AgglomerativeClustering)\n",
        "rand_scores_pca_resnet_louvain = metric_calculation('rand_resnet', test_data_resnet50_pca,best_r_resnet_pca_louvain,Model=Louvain)\n",
        "\n",
        "rand_scores_umap_resnet_kmeans = metric_calculation('rand_resnet', test_data_resnet50_umap,best_k_resnet_umap_kmean,Model=KMeans)\n",
        "rand_scores_umap_resnet_hier = metric_calculation('rand_resnet', test_data_resnet50_umap,best_k_resnet_umap_hier,Model=AgglomerativeClustering)\n",
        "rand_scores_umap_resnet_louvain = metric_calculation('rand_resnet', test_data_resnet50_umap,best_r_resnet_umap_louvain,Model=Louvain)\n"
      ]
    },
    {
      "cell_type": "code",
      "execution_count": 61,
      "metadata": {},
      "outputs": [
        {
          "name": "stdout",
          "output_type": "stream",
          "text": [
            "Rand Index Scores for PCA on PGE with KMeans: 0.8726622124424885\n",
            "Rand Index Scores for PCA on PGE with Hierarchical: 0.11484816963392679\n",
            "Rand Index Scores for PCA on PGE with Louvain: 0.6420407281456292\n",
            "Rand Index Scores for UMAP on PGE with KMeans: 0.885171674334867\n",
            "Rand Index Scores for UMAP on PGE with Hierarchical: 0.48123072614522905\n",
            "Rand Index Scores for UMAP on PGE with Louvain: 0.7514190838167634\n",
            "Rand Index Scores for PCA on ResNet50 with KMeans: 0.8825851570314063\n",
            "Rand Index Scores for PCA on ResNet50 with Hierarchical: 0.11453618723744749\n",
            "Rand Index Scores for PCA on ResNet50 with Louvain: 0.747479175835167\n",
            "Rand Index Scores for UMAP on ResNet50 with KMeans: 0.8967600720144029\n",
            "Rand Index Scores for UMAP on ResNet50 with Hierarchical: 0.6224168033606722\n",
            "Rand Index Scores for UMAP on ResNet50 with Louvain: 0.8098748549709942\n"
          ]
        }
      ],
      "source": [
        "# Print the Rand Index scores\n",
        "print(\"Rand Index Scores for PCA on PGE with KMeans:\", rand_scores_pca_pge_kmeans)\n",
        "print(\"Rand Index Scores for PCA on PGE with Hierarchical:\", rand_scores_pca_pge_hier)\n",
        "print(\"Rand Index Scores for PCA on PGE with Louvain:\", rand_scores_pca_pge_louvain)\n",
        "\n",
        "print(\"Rand Index Scores for UMAP on PGE with KMeans:\", rand_scores_umap_pge_kmeans)\n",
        "print(\"Rand Index Scores for UMAP on PGE with Hierarchical:\", rand_scores_umap_pge_hier)\n",
        "print(\"Rand Index Scores for UMAP on PGE with Louvain:\", rand_scores_umap_pge_louvain)\n",
        "\n",
        "print(\"Rand Index Scores for PCA on ResNet50 with KMeans:\", rand_scores_pca_resnet_kmeans)\n",
        "print(\"Rand Index Scores for PCA on ResNet50 with Hierarchical:\", rand_scores_pca_resnet_hier)\n",
        "print(\"Rand Index Scores for PCA on ResNet50 with Louvain:\", rand_scores_pca_resnet_louvain)\n",
        "\n",
        "print(\"Rand Index Scores for UMAP on ResNet50 with KMeans:\", rand_scores_umap_resnet_kmeans)\n",
        "print(\"Rand Index Scores for UMAP on ResNet50 with Hierarchical:\", rand_scores_umap_resnet_hier)\n",
        "print(\"Rand Index Scores for UMAP on ResNet50 with Louvain:\", rand_scores_umap_resnet_louvain)"
      ]
    },
    {
      "cell_type": "markdown",
      "metadata": {},
      "source": [
        "#### V-measure"
      ]
    },
    {
      "cell_type": "code",
      "execution_count": 64,
      "metadata": {
        "id": "R5HftlwHUTHk"
      },
      "outputs": [],
      "source": [
        "# PGE\n",
        "v_measure_scores_pca_pge_kmeans = metric_calculation('v_measure_pge', test_data_pge_pca,best_k_pge_pca_kmean,Model=KMeans)\n",
        "v_measure_scores_pca_pge_hier = metric_calculation('v_measure_pge', test_data_pge_pca,best_k_pge_pca_hier,Model=AgglomerativeClustering)\n",
        "v_measure_scores_pca_pge_louvain = metric_calculation('v_measure_pge', test_data_pge_pca,best_r_pge_pca_louvain,Model=Louvain)\n",
        "\n",
        "v_measure_scores_umap_pge_kmeans = metric_calculation('v_measure_pge', test_data_pge_umap,best_k_pge_umap_kmean,Model=AgglomerativeClustering)\n",
        "v_measure_scores_umap_pge_hier = metric_calculation('v_measure_pge', test_data_pge_umap,best_k_pge_umap_hier,Model=AgglomerativeClustering)\n",
        "v_measure_scores_umap_pge_louvain = metric_calculation('v_measure_pge', test_data_pge_umap,best_r_pge_umap_louvain,Model=Louvain)\n",
        "\n",
        "\n",
        "# ResNet50\n",
        "v_measure_scores_pca_resnet_kmeans = metric_calculation('v_measure_resnet', test_data_resnet50_pca,best_k_resnet_pca_kmean,Model=KMeans)\n",
        "v_measure_scores_pca_resnet_hier = metric_calculation('v_measure_resnet', test_data_resnet50_pca,best_k_resnet_pca_hier,Model=AgglomerativeClustering)\n",
        "v_measure_scores_pca_resnet_louvain = metric_calculation('v_measure_resnet', test_data_resnet50_pca,best_r_resnet_pca_louvain,Model=Louvain)\n",
        "\n",
        "v_measure_scores_umap_resnet_kmeans = metric_calculation('v_measure_resnet', test_data_resnet50_umap,best_k_resnet_umap_kmean,Model=KMeans)\n",
        "v_measure_scores_umap_resnet_hier = metric_calculation('v_measure_resnet', test_data_resnet50_umap,best_k_resnet_umap_hier,Model=AgglomerativeClustering)\n",
        "v_measure_scores_umap_resnet_louvain = metric_calculation('v_measure_resnet', test_data_resnet50_umap,best_r_resnet_umap_louvain,Model=Louvain)"
      ]
    },
    {
      "cell_type": "code",
      "execution_count": 65,
      "metadata": {},
      "outputs": [
        {
          "name": "stdout",
          "output_type": "stream",
          "text": [
            "V-Measure Scores for PCA on PGE with KMeans: 0.4271842708765519\n",
            "V-Measure Scores for PCA on PGE with Hierarchical: 0.0008069260396096387\n",
            "V-Measure Scores for PCA on PGE with Louvain: 0.25630358060693975\n",
            "V-Measure Scores for UMAP on PGE with KMeans: 0.42359360244584604\n",
            "V-Measure Scores for UMAP on PGE with Hierarchical: 0.4104823590518792\n",
            "V-Measure Scores for UMAP on PGE with Louvain: 0.4310290908405775\n",
            "V-Measure Scores for PCA on ResNet50 with KMeans: 0.5172263171635211\n",
            "V-Measure Scores for PCA on ResNet50 with Hierarchical: 0.00040361549378110456\n",
            "V-Measure Scores for PCA on ResNet50 with Louvain: 0.3541701616721559\n",
            "V-Measure Scores for UMAP on ResNet50 with KMeans: 0.6971403805642246\n",
            "V-Measure Scores for UMAP on ResNet50 with Hierarchical: 0.5680131180078676\n",
            "V-Measure Scores for UMAP on ResNet50 with Louvain: 0.5808905749417033\n"
          ]
        }
      ],
      "source": [
        "# Print the V-Measure scores\n",
        "print(\"V-Measure Scores for PCA on PGE with KMeans:\", v_measure_scores_pca_pge_kmeans)\n",
        "print(\"V-Measure Scores for PCA on PGE with Hierarchical:\", v_measure_scores_pca_pge_hier)\n",
        "print(\"V-Measure Scores for PCA on PGE with Louvain:\", v_measure_scores_pca_pge_louvain)\n",
        "\n",
        "print(\"V-Measure Scores for UMAP on PGE with KMeans:\", v_measure_scores_umap_pge_kmeans)\n",
        "print(\"V-Measure Scores for UMAP on PGE with Hierarchical:\", v_measure_scores_umap_pge_hier)\n",
        "print(\"V-Measure Scores for UMAP on PGE with Louvain:\", v_measure_scores_umap_pge_louvain)\n",
        "\n",
        "print(\"V-Measure Scores for PCA on ResNet50 with KMeans:\", v_measure_scores_pca_resnet_kmeans)\n",
        "print(\"V-Measure Scores for PCA on ResNet50 with Hierarchical:\", v_measure_scores_pca_resnet_hier)\n",
        "print(\"V-Measure Scores for PCA on ResNet50 with Louvain:\", v_measure_scores_pca_resnet_louvain)\n",
        "\n",
        "print(\"V-Measure Scores for UMAP on ResNet50 with KMeans:\", v_measure_scores_umap_resnet_kmeans)\n",
        "print(\"V-Measure Scores for UMAP on ResNet50 with Hierarchical:\", v_measure_scores_umap_resnet_hier)\n",
        "print(\"V-Measure Scores for UMAP on ResNet50 with Louvain:\", v_measure_scores_umap_resnet_louvain)\n"
      ]
    },
    {
      "cell_type": "markdown",
      "metadata": {
        "id": "rJMpHWtpWbjg"
      },
      "source": [
        "## Optimal Clusters 'k' using V-Measure:"
      ]
    },
    {
      "cell_type": "code",
      "execution_count": null,
      "metadata": {
        "id": "WvLfgZs2WZ_3"
      },
      "outputs": [],
      "source": [
        "print('Using PCA:')\n",
        "kmeans_model_pge = KMeans(n_clusters = best_k_pge_pca_v_measure, random_state = 0)\n",
        "kmeans_assignment_pge = kmeans_model_pge.fit_predict(test_data_pga_pca)\n",
        "kmeans_model_resnet = KMeans(n_clusters = best_k_resnet_pca_v_measure , random_state = 0)\n",
        "kmeans_assignment_resnet = kmeans_model_resnet.fit_predict(test_data_resnet50_pca)\n",
        "print('Number of clusters from KMeans-PGE: %d and from KMeans-ResNet: %d'%(np.unique(kmeans_assignment_pge).shape[0],np.unique(kmeans_assignment_resnet).shape[0]))\n",
        "\n",
        "kmeans_counts_pge = np.unique(kmeans_assignment_pge, return_counts = True)\n",
        "pge_df = pd.DataFrame({'Cluster Index': kmeans_counts_pge[0], 'Number of members':kmeans_counts_pge[1]}).set_index('Cluster Index')\n",
        "\n",
        "\n",
        "print('Kmeans-PGE_PCA assignment counts')\n",
        "pge_df"
      ]
    },
    {
      "cell_type": "code",
      "execution_count": null,
      "metadata": {
        "id": "kVVBmcx3WqB8"
      },
      "outputs": [],
      "source": [
        "kmeans_counts_resnet = np.unique(kmeans_assignment_resnet, return_counts = True)\n",
        "resnet_df = pd.DataFrame({'Cluster Index': kmeans_counts_resnet[0], 'Number of members':kmeans_counts_resnet[1]}).set_index('Cluster Index')\n",
        "\n",
        "print('Kmeans-ResNet50-PCA assignment counts')\n",
        "resnet_df"
      ]
    },
    {
      "cell_type": "markdown",
      "metadata": {
        "id": "gSnRoVV-WtWS"
      },
      "source": [
        "Below are the member of the cluster for PGE and ResNet50 using UMAP projections."
      ]
    },
    {
      "cell_type": "code",
      "execution_count": null,
      "metadata": {
        "id": "pnt3gBTWWvf8"
      },
      "outputs": [],
      "source": [
        "print('Using UMAP:')\n",
        "kmeans_model_pge = KMeans(n_clusters = best_k_pge_umap_v_measure, random_state = 0)\n",
        "kmeans_assignment_pge = kmeans_model_pge.fit_predict(test_data_pge_umap)\n",
        "kmeans_model_resnet = KMeans(n_clusters = best_k_resnet_umap_v_measure , random_state = 0)\n",
        "kmeans_assignment_resnet = kmeans_model_resnet.fit_predict(test_data_resnet50_umap)\n",
        "print('Number of clusters from KMeans-PGE: %d and from KMeans-ResNet: %d'%(np.unique(kmeans_assignment_pge).shape[0],np.unique(kmeans_assignment_resnet).shape[0]))\n",
        "\n",
        "kmeans_counts_pge = np.unique(kmeans_assignment_pge, return_counts = True)\n",
        "pge_df = pd.DataFrame({'Cluster Index': kmeans_counts_pge[0], 'Number of members':kmeans_counts_pge[1]}).set_index('Cluster Index')\n",
        "\n",
        "\n",
        "print('Kmeans-PGE-UMAP assignment counts')\n",
        "pge_df"
      ]
    },
    {
      "cell_type": "code",
      "execution_count": null,
      "metadata": {
        "id": "kIp_4g0BW04u"
      },
      "outputs": [],
      "source": [
        "kmeans_counts_resnet = np.unique(kmeans_assignment_resnet, return_counts = True)\n",
        "resnet_df = pd.DataFrame({'Cluster Index': kmeans_counts_resnet[0], 'Number of members':kmeans_counts_resnet[1]}).set_index('Cluster Index')\n",
        "\n",
        "print('Kmeans-ResNet50-UMAP assignment counts')\n",
        "resnet_df"
      ]
    },
    {
      "cell_type": "markdown",
      "metadata": {
        "id": "ESIlUywzW2rZ"
      },
      "source": [
        "But in real life application of unsupervised learning:\n",
        "\n",
        "1. V-Measure is not a feasible measure to find the optimal number of clusters 'k' for a given dataset.\n",
        "\n",
        "2. The real labels are never available in practical applications.\n",
        "\n",
        "Hence, we are considering the silhouette score to find the optimal number of clusters 'k' whose value ranges from -1 to 1. The optimal cluster 'k' where we get the best fit is provided below along with its members:"
      ]
    },
    {
      "cell_type": "code",
      "execution_count": null,
      "metadata": {
        "id": "W3kxe0LXW4wG"
      },
      "outputs": [],
      "source": [
        "print('Using PCA:')\n",
        "kmeans_model_pge = KMeans(n_clusters = best_k_pge_pca_silhouette_score, random_state = 0)\n",
        "kmeans_assignment_pge = kmeans_model_pge.fit_predict(test_data_pga_pca)\n",
        "kmeans_model_resnet = KMeans(n_clusters = best_k_resnet_pca_silhouette_score , random_state = 0)\n",
        "kmeans_assignment_resnet = kmeans_model_resnet.fit_predict(test_data_resnet50_pca)\n",
        "# print('Number of clusters from KMeans-PGE: %d and from KMeans-ResNet: %d'%(np.unique(kmeans_assignment_pge).shape[0],np.unique(kmeans_assignment_resnet).shape[0]))\n",
        "\n",
        "kmeans_counts_pge = np.unique(kmeans_assignment_pge, return_counts = True)\n",
        "pge_df = pd.DataFrame({'Cluster Index': kmeans_counts_pge[0], 'Number of members':kmeans_counts_pge[1]}).set_index('Cluster Index')\n",
        "\n",
        "\n",
        "print('Kmeans-PGE_PCA assignment counts')\n",
        "pge_df"
      ]
    },
    {
      "cell_type": "code",
      "execution_count": null,
      "metadata": {
        "id": "YQ-3YUQnXJGk"
      },
      "outputs": [],
      "source": [
        "kmeans_counts_resnet = np.unique(kmeans_assignment_resnet, return_counts = True)\n",
        "resnet_df = pd.DataFrame({'Cluster Index': kmeans_counts_resnet[0], 'Number of members':kmeans_counts_resnet[1]}).set_index('Cluster Index')\n",
        "\n",
        "print('Kmeans-ResNet50-PCA assignment counts')\n",
        "resnet_df"
      ]
    },
    {
      "cell_type": "code",
      "execution_count": null,
      "metadata": {
        "id": "3NGvaEfFXLEf"
      },
      "outputs": [],
      "source": [
        "print('Using UMAP:')\n",
        "kmeans_model_pge = KMeans(n_clusters = best_k_pge_umap_silhouette_score, random_state = 0)\n",
        "kmeans_assignment_pge = kmeans_model_pge.fit_predict(test_data_pga_umap)\n",
        "kmeans_model_resnet = KMeans(n_clusters = best_k_resnet_umap_silhouette_score , random_state = 0)\n",
        "kmeans_assignment_resnet = kmeans_model_resnet.fit_predict(test_data_resnet50_umap)\n",
        "# print('Number of clusters from KMeans-PGE: %d and from KMeans-ResNet: %d'%(np.unique(kmeans_assignment_pge).shape[0],np.unique(kmeans_assignment_resnet).shape[0]))\n",
        "\n",
        "kmeans_counts_pge = np.unique(kmeans_assignment_pge, return_counts = True)\n",
        "pge_df = pd.DataFrame({'Cluster Index': kmeans_counts_pge[0], 'Number of members':kmeans_counts_pge[1]}).set_index('Cluster Index')\n",
        "\n",
        "\n",
        "print('Kmeans-PGE-UMAP assignment counts')\n",
        "pge_df"
      ]
    },
    {
      "cell_type": "code",
      "execution_count": null,
      "metadata": {
        "id": "lAIY_1qaXR_O"
      },
      "outputs": [],
      "source": [
        "kmeans_counts_resnet = np.unique(kmeans_assignment_resnet, return_counts = True)\n",
        "resnet_df = pd.DataFrame({'Cluster Index': kmeans_counts_resnet[0], 'Number of members':kmeans_counts_resnet[1]}).set_index('Cluster Index')\n",
        "\n",
        "print('Kmeans-ResNet50-UMAP assignment counts')\n",
        "resnet_df"
      ]
    },
    {
      "cell_type": "markdown",
      "metadata": {
        "id": "tjrbgNwHXwQV"
      },
      "source": [
        "## Final Metrics of K-Means Clustering"
      ]
    },
    {
      "cell_type": "code",
      "execution_count": null,
      "metadata": {
        "id": "8p1bcZY4X0j1"
      },
      "outputs": [],
      "source": [
        "pge_pca_silhouette_score = max(silhouette_scores_pca_pge)\n",
        "pge_umap_silhouette_score = max(silhouette_scores_umap_pge)\n",
        "resnet_pca_silhouette_score = max(silhouette_scores_pca_resnet)\n",
        "resnet_umap_silhouette_score = max(silhouette_scores_umap_resnet)\n",
        "\n",
        "pge_pca_v_measure = max(v_measure_scores_pca_pge)\n",
        "pge_umap_v_measure = max(v_measure_scores_umap_pge)\n",
        "resnet_pca_v_measure = max(v_measure_scores_pca_resnet)\n",
        "resnet_umap_v_measure = max(v_measure_scores_umap_resnet)\n",
        "\n",
        "#####Storing the values for final evaluation######################\n",
        "\n",
        "Kmeans_best_k_pca_pge = best_k_pge_pca_silhouette_score\n",
        "Kmeans_best_k_umap_pge = best_k_pge_umap_silhouette_score\n",
        "Kmeans_best_k_pca_resnet = best_k_resnet_pca_silhouette_score\n",
        "Kmeans_best_k_umap_resnet = best_k_resnet_umap_silhouette_score\n",
        "\n",
        "pd.DataFrame({'Metrics': ['silhouette-PCA', 'silhouette-UMAP','VMeasure-PCA','VMeasure-UMAP'], 'PGE': [pge_pca_silhouette_score,pge_umap_silhouette_score,pge_pca_v_measure,pge_umap_v_measure ],'ResNet50':[resnet_pca_silhouette_score, resnet_umap_silhouette_score,resnet_pca_v_measure,resnet_umap_v_measure]}).set_index('Metrics')"
      ]
    },
    {
      "cell_type": "markdown",
      "metadata": {
        "id": "orYQhKgHYAiJ"
      },
      "source": [
        "# Hierarchical Clustering(Agglomerative Clustering)"
      ]
    },
    {
      "cell_type": "code",
      "execution_count": null,
      "metadata": {
        "id": "a5jW-6zgYJVM"
      },
      "outputs": [],
      "source": [
        "from sklearn.cluster import AgglomerativeClustering\n",
        "\n",
        "K = list(range(2,50))"
      ]
    },
    {
      "cell_type": "markdown",
      "metadata": {
        "id": "J4ZVnEU0YJAG"
      },
      "source": [
        "Here, we are using linkage as 'single' to cluster based on the nearest branch available and evaluating the respective performance measurements to determine the optimal value of the k."
      ]
    },
    {
      "cell_type": "code",
      "execution_count": null,
      "metadata": {
        "id": "ZikTm-geYNNy"
      },
      "outputs": [],
      "source": [
        "silhouette_scores_pca_pge =  []\n",
        "for k in K:\n",
        "    agglo_model= AgglomerativeClustering(n_clusters=k, affinity='euclidean', linkage='single')\n",
        "    agglo_assignment_pca_pge = agglo_model.fit_predict(test_data_pga_pca)\n",
        "\n",
        "    agglo_silhouette_pge = silhouette_score(test_data_pga_pca, agglo_assignment_pca_pge)\n",
        "    silhouette_scores_pca_pge.append(agglo_silhouette_pge)\n",
        "\n",
        "print(\"Best k for PGE feature set:\",silhouette_scores_pca_pge.index(max(silhouette_scores_pca_pge))+2)\n",
        "\n",
        "plt.plot(K, silhouette_scores_pca_pge, 'bo-')\n",
        "plt.xlabel('k')\n",
        "plt.ylabel('Silhouette scores PCA')\n",
        "plt.title('For Optimal k using PGE')\n",
        "plt.show()"
      ]
    },
    {
      "cell_type": "code",
      "execution_count": null,
      "metadata": {
        "id": "XVx1TlhPYQ33"
      },
      "outputs": [],
      "source": [
        "silhouette_scores_pca_resnet =  []\n",
        "\n",
        "for k in K:\n",
        "    agglo_model= AgglomerativeClustering(n_clusters=k, affinity='euclidean', linkage='single')\n",
        "    agglo_assignment_pca_resnet = agglo_model.fit_predict(test_data_resnet50_pca)\n",
        "\n",
        "    agglo_silhouette_resnet = silhouette_score(test_data_resnet50_pca, agglo_assignment_pca_resnet)\n",
        "    silhouette_scores_pca_resnet.append(agglo_silhouette_resnet)\n",
        "\n",
        "print(\"Best k for ResNet feature set:\",silhouette_scores_pca_resnet.index(max(silhouette_scores_pca_resnet))+2)\n",
        "\n",
        "plt.plot(K, silhouette_scores_pca_resnet, 'bo-')\n",
        "plt.xlabel('k')\n",
        "plt.ylabel('Silhouette scores PCA')\n",
        "plt.title('For Optimal k using ResNet50')\n",
        "plt.show()"
      ]
    },
    {
      "cell_type": "code",
      "execution_count": null,
      "metadata": {},
      "outputs": [],
      "source": [
        "silhouette_scores_umap_pge =  []\n",
        "\n",
        "for k in K:\n",
        "    agglo_model= AgglomerativeClustering(n_clusters=k, affinity='euclidean', linkage='single')\n",
        "    agglo_assignment_umap_pge = agglo_model.fit_predict(test_data_resnet50_pca)\n",
        "    \n",
        "    agglo_silhouette_pge = silhouette_score(test_data_resnet50_pca, agglo_assignment_umap_pge)\n",
        "    silhouette_scores_umap_pge.append(agglo_silhouette_pge)\n",
        "    \n",
        "print(\"Best k for PGE feature set:\",silhouette_scores_umap_pge.index(max(silhouette_scores_umap_pge))+2)\n",
        "\n",
        "plt.plot(K, silhouette_scores_umap_pge, 'bo-')\n",
        "plt.xlabel('k')\n",
        "plt.ylabel('Silhouette scores UMAP')\n",
        "plt.title('For Optimal k using PGE')\n",
        "plt.show()"
      ]
    },
    {
      "cell_type": "code",
      "execution_count": null,
      "metadata": {},
      "outputs": [],
      "source": [
        "silhouette_scores_umap_resnet =  []\n",
        "\n",
        "for k in K:\n",
        "    agglo_model= AgglomerativeClustering(n_clusters=k, affinity='euclidean', linkage='single')\n",
        "    agglo_assignment_umap_resnet = agglo_model.fit_predict(test_data_resnet50_umap)\n",
        "    \n",
        "    agglo_silhouette_resnet = silhouette_score(test_data_resnet50_umap, agglo_assignment_umap_resnet)\n",
        "    silhouette_scores_umap_resnet.append(agglo_silhouette_resnet)\n",
        "    \n",
        "print(\"Best k for ResNet feature set:\",silhouette_scores_umap_resnet.index(max(silhouette_scores_umap_resnet))+2)\n",
        "\n",
        "plt.plot(K, silhouette_scores_umap_resnet, 'bo-')\n",
        "plt.xlabel('k')\n",
        "plt.ylabel('Silhouette scores UMAP')\n",
        "plt.title('For Optimal k using ResNet50')\n",
        "plt.show()"
      ]
    },
    {
      "cell_type": "code",
      "execution_count": null,
      "metadata": {},
      "outputs": [],
      "source": [
        "v_measure_scores_pca_pge =  []\n",
        "\n",
        "for k in K:\n",
        "    agglo_model= AgglomerativeClustering(n_clusters=k, affinity='euclidean', linkage='single')\n",
        "    agglo_assignment_pca_pge = agglo_model.fit_predict(test_data_pga_pca)\n",
        "\n",
        "    agglo_v_measure_pge = v_measure_score(labels_pge, agglo_assignment_pca_pge)\n",
        "    v_measure_scores_pca_pge.append(agglo_v_measure_pge)\n",
        "    \n",
        "print(\"Best k for PGE feature set:\",v_measure_scores_pca_pge.index(max(v_measure_scores_pca_pge))+2)\n",
        "\n",
        "plt.plot(K, v_measure_scores_pca_pge, 'bo-')\n",
        "plt.xlabel('k')\n",
        "plt.ylabel('V-Measure scores PCA')\n",
        "plt.title('For Optimal k using PGE')\n",
        "plt.show()"
      ]
    },
    {
      "cell_type": "code",
      "execution_count": null,
      "metadata": {},
      "outputs": [],
      "source": [
        "v_measure_scores_umap_pge =  []\n",
        "for k in K:\n",
        "    agglo_model= AgglomerativeClustering(n_clusters=k, affinity='euclidean', linkage='single')\n",
        "    agglo_assignment_umap_pge = agglo_model.fit_predict(test_data_pga_umap)\n",
        "\n",
        "    agglo_v_measure_pge = v_measure_score(labels_pge, agglo_assignment_umap_pge)\n",
        "    v_measure_scores_umap_pge.append(agglo_v_measure_pge)\n",
        "    \n",
        "print(\"Best k for PGE feature set:\",v_measure_scores_umap_pge.index(max(v_measure_scores_umap_pge))+2)\n",
        "\n",
        "plt.plot(K, v_measure_scores_umap_pge, 'bo-')\n",
        "plt.xlabel('k')\n",
        "plt.ylabel('V-Measure scores UMAP')\n",
        "plt.title('For Optimal k using PGE')\n",
        "plt.show()"
      ]
    },
    {
      "cell_type": "code",
      "execution_count": null,
      "metadata": {},
      "outputs": [],
      "source": [
        "v_measure_scores_pca_resnet =  []\n",
        "for k in K:\n",
        "    agglo_model= AgglomerativeClustering(n_clusters=k, affinity='euclidean', linkage='single')\n",
        "    agglo_assignment_pca_resnet = agglo_model.fit_predict(test_data_resnet50_pca)\n",
        "\n",
        "    agglo_v_measure_resnet = v_measure_score(labels_pge, agglo_assignment_pca_resnet)\n",
        "    v_measure_scores_pca_resnet.append(agglo_v_measure_resnet)\n",
        "    \n",
        "print(\"Best k for ResNet feature set:\",v_measure_scores_pca_resnet.index(max(v_measure_scores_pca_resnet))+2)\n",
        "\n",
        "plt.plot(K, v_measure_scores_pca_resnet, 'bo-')\n",
        "plt.xlabel('k')\n",
        "plt.ylabel('V-Measure scores PCA')\n",
        "plt.title('For Optimal k using ResNet')\n",
        "plt.show()"
      ]
    },
    {
      "cell_type": "code",
      "execution_count": null,
      "metadata": {},
      "outputs": [],
      "source": [
        "v_measure_scores_umap_resnet =  []\n",
        "for k in K:\n",
        "    agglo_model= AgglomerativeClustering(n_clusters=k, affinity='euclidean', linkage='single')\n",
        "    agglo_assignment_umap_resnet = agglo_model.fit_predict(test_data_resnet50_umap)\n",
        "\n",
        "    agglo_v_measure_resnet = v_measure_score(labels_pge, agglo_assignment_umap_resnet)\n",
        "    v_measure_scores_umap_resnet.append(agglo_v_measure_resnet)\n",
        "    \n",
        "print(\"Best k for ResNet feature set:\",v_measure_scores_umap_resnet.index(max(v_measure_scores_umap_resnet))+2)\n",
        "\n",
        "plt.plot(K, v_measure_scores_umap_resnet, 'bo-')\n",
        "plt.xlabel('k')\n",
        "plt.ylabel('V-Measure scores UMAP')\n",
        "plt.title('For Optimal k using ResNet')\n",
        "plt.show()"
      ]
    },
    {
      "cell_type": "markdown",
      "metadata": {},
      "source": [
        "## Final Metrics of Agglomerative Clustering using Linkage='single'"
      ]
    },
    {
      "cell_type": "code",
      "execution_count": null,
      "metadata": {},
      "outputs": [],
      "source": [
        "pge_pca_silhouette_score = max(silhouette_scores_pca_pge)\n",
        "pge_umap_silhouette_score = max(silhouette_scores_umap_pge)\n",
        "resnet_pca_silhouette_score = max(silhouette_scores_pca_resnet)\n",
        "resnet_umap_silhouette_score = max(silhouette_scores_umap_resnet)\n",
        "\n",
        "pge_pca_v_measure = max(v_measure_scores_pca_pge)\n",
        "pge_umap_v_measure = max(v_measure_scores_umap_pge)\n",
        "resnet_pca_v_measure = max(v_measure_scores_pca_resnet)\n",
        "resnet_umap_v_measure = max(v_measure_scores_umap_resnet)\n",
        "print(\"Linkage='Single'\")\n",
        "df_single = pd.DataFrame({'Metrics': ['silhouette-PCA', 'silhouette-UMAP','VMeasure-PCA','VMeasure-UMAP'], 'PGE': [pge_pca_silhouette_score,pge_umap_silhouette_score,pge_pca_v_measure,pge_umap_v_measure ],'ResNet50':[resnet_pca_silhouette_score, resnet_umap_silhouette_score,resnet_pca_v_measure,resnet_umap_v_measure]}).set_index('Metrics')\n",
        "df_single"
      ]
    },
    {
      "cell_type": "markdown",
      "metadata": {},
      "source": [
        "Now, we are changing the linkage = 'ward', due to the nature of the feature set and to join the nearest branch based on the variance of each cluster."
      ]
    },
    {
      "cell_type": "code",
      "execution_count": null,
      "metadata": {},
      "outputs": [],
      "source": [
        "silhouette_scores_pca_pge =  []\n",
        "for k in K:\n",
        "    agglo_model= AgglomerativeClustering(n_clusters=k, affinity='euclidean', linkage='ward')\n",
        "    agglo_assignment_pca_pge = agglo_model.fit_predict(test_data_pge_pca)\n",
        "    \n",
        "    agglo_silhouette_pge = silhouette_score(test_data_pge_pca, agglo_assignment_pca_pge)\n",
        "    silhouette_scores_pca_pge.append(agglo_silhouette_pge)\n",
        "    \n",
        "print(\"Best k for PGE feature set:\",silhouette_scores_pca_pge.index(max(silhouette_scores_pca_pge))+2)\n",
        "\n",
        "plt.plot(K, silhouette_scores_pca_pge, 'bo-')\n",
        "plt.xlabel('k')\n",
        "plt.ylabel('Silhouette scores PCA')\n",
        "plt.title('For Optimal k using PGE')\n",
        "plt.show()"
      ]
    },
    {
      "cell_type": "code",
      "execution_count": null,
      "metadata": {},
      "outputs": [],
      "source": [
        "silhouette_scores_umap_pge =  []\n",
        "\n",
        "for k in K:\n",
        "    agglo_model= AgglomerativeClustering(n_clusters=k, affinity='euclidean', linkage='ward')\n",
        "    agglo_assignment_umap_pge = agglo_model.fit_predict(test_data_pge_umap)\n",
        "    \n",
        "    agglo_silhouette_pge = silhouette_score(test_data_pge_umap, agglo_assignment_umap_pge)\n",
        "    silhouette_scores_umap_pge.append(agglo_silhouette_pge)\n",
        "    \n",
        "print(\"Best k for PGE feature set:\",silhouette_scores_umap_pge.index(max(silhouette_scores_umap_pge))+2)\n",
        "\n",
        "plt.plot(K, silhouette_scores_umap_pge, 'bo-')\n",
        "plt.xlabel('k')\n",
        "plt.ylabel('Silhouette scores UMAP')\n",
        "plt.title('For Optimal k using PGE')\n",
        "plt.show()"
      ]
    },
    {
      "cell_type": "code",
      "execution_count": null,
      "metadata": {},
      "outputs": [],
      "source": [
        "silhouette_scores_pca_resnet =  []\n",
        "\n",
        "for k in K:\n",
        "    agglo_model= AgglomerativeClustering(n_clusters=k, affinity='euclidean', linkage='ward')\n",
        "    agglo_assignment_pca_resnet = agglo_model.fit_predict(test_data_resnet50_pca)\n",
        "    \n",
        "    agglo_silhouette_resnet = silhouette_score(test_data_resnet50_pca, agglo_assignment_pca_resnet)\n",
        "    silhouette_scores_pca_resnet.append(agglo_silhouette_resnet)\n",
        "    \n",
        "print(\"Best k for ResNet feature set:\",silhouette_scores_pca_resnet.index(max(silhouette_scores_pca_resnet))+2)\n",
        "\n",
        "plt.plot(K, silhouette_scores_pca_resnet, 'bo-')\n",
        "plt.xlabel('k')\n",
        "plt.ylabel('Silhouette scores PCA')\n",
        "plt.title('For Optimal k using ResNet50')\n",
        "plt.show()"
      ]
    },
    {
      "cell_type": "code",
      "execution_count": null,
      "metadata": {},
      "outputs": [],
      "source": [
        "silhouette_scores_umap_resnet =  []\n",
        "\n",
        "for k in K:\n",
        "    agglo_model= AgglomerativeClustering(n_clusters=k, affinity='euclidean', linkage='ward')\n",
        "    agglo_assignment_umap_resnet = agglo_model.fit_predict(test_data_resnet50_umap)\n",
        "    \n",
        "    agglo_silhouette_resnet = silhouette_score(test_data_resnet50_umap, agglo_assignment_umap_resnet)\n",
        "    silhouette_scores_umap_resnet.append(agglo_silhouette_resnet)\n",
        "    \n",
        "print(\"Best k for ResNet feature set:\",silhouette_scores_umap_resnet.index(max(silhouette_scores_umap_resnet))+2)\n",
        "\n",
        "plt.plot(K, silhouette_scores_umap_resnet, 'bo-')\n",
        "plt.xlabel('k')\n",
        "plt.ylabel('Silhouette scores UMAP')\n",
        "plt.title('For Optimal k using ResNet50')\n",
        "plt.show()"
      ]
    },
    {
      "cell_type": "code",
      "execution_count": null,
      "metadata": {},
      "outputs": [],
      "source": [
        "v_measure_scores_pca_pge =  []\n",
        "for k in K:\n",
        "    agglo_model= AgglomerativeClustering(n_clusters=k, affinity='euclidean', linkage='ward')\n",
        "    agglo_assignment_pca_pge = agglo_model.fit_predict(test_data_pge_pca)\n",
        "\n",
        "    agglo_v_measure_pge = v_measure_score(labels_pge, agglo_assignment_pca_pge)\n",
        "    v_measure_scores_pca_pge.append(agglo_v_measure_pge)\n",
        "    \n",
        "print(\"Best k for PGE feature set:\",v_measure_scores_pca_pge.index(max(v_measure_scores_pca_pge))+2)\n",
        "\n",
        "plt.plot(K, v_measure_scores_pca_pge, 'bo-')\n",
        "plt.xlabel('k')\n",
        "plt.ylabel('V-Measure scores PCA')\n",
        "plt.title('For Optimal k using PGE')\n",
        "plt.show()"
      ]
    },
    {
      "cell_type": "code",
      "execution_count": null,
      "metadata": {},
      "outputs": [],
      "source": [
        "v_measure_scores_umap_pge =  []\n",
        "for k in K:\n",
        "    agglo_model= AgglomerativeClustering(n_clusters=k, affinity='euclidean', linkage='ward')\n",
        "    agglo_assignment_umap_pge = agglo_model.fit_predict(test_data_pge_umap)\n",
        "\n",
        "    agglo_v_measure_pge = v_measure_score(labels_pge, agglo_assignment_umap_pge)\n",
        "    v_measure_scores_umap_pge.append(agglo_v_measure_pge)\n",
        "    \n",
        "print(\"Best k for PGE feature set:\",v_measure_scores_umap_pge.index(max(v_measure_scores_umap_pge))+2)\n",
        "\n",
        "plt.plot(K, v_measure_scores_umap_pge, 'bo-')\n",
        "plt.xlabel('k')\n",
        "plt.ylabel('V-Measure scores UMAP')\n",
        "plt.title('For Optimal k using PGE')\n",
        "plt.show()"
      ]
    },
    {
      "cell_type": "code",
      "execution_count": null,
      "metadata": {},
      "outputs": [],
      "source": [
        "v_measure_scores_pca_resnet =  []\n",
        "for k in K:\n",
        "    agglo_model= AgglomerativeClustering(n_clusters=k, affinity='euclidean', linkage='ward')\n",
        "    agglo_assignment_pca_resnet = agglo_model.fit_predict(test_data_resnet50_pca)\n",
        "\n",
        "    agglo_v_measure_resnet = v_measure_score(labels_resnet50, agglo_assignment_pca_resnet)\n",
        "    v_measure_scores_pca_resnet.append(agglo_v_measure_resnet)\n",
        "    \n",
        "print(\"Best k for ResNet feature set:\",v_measure_scores_pca_resnet.index(max(v_measure_scores_pca_resnet))+2)\n",
        "\n",
        "plt.plot(K, v_measure_scores_pca_resnet, 'bo-')\n",
        "plt.xlabel('k')\n",
        "plt.ylabel('V-Measure scores PCA')\n",
        "plt.title('For Optimal k using ResNet')\n",
        "plt.show()"
      ]
    },
    {
      "cell_type": "code",
      "execution_count": null,
      "metadata": {},
      "outputs": [],
      "source": [
        "v_measure_scores_umap_resnet =  []\n",
        "for k in K:\n",
        "    agglo_model= AgglomerativeClustering(n_clusters=k, affinity='euclidean', linkage='ward')\n",
        "    agglo_assignment_umap_resnet = agglo_model.fit_predict(test_data_resnet50_umap)\n",
        "\n",
        "    agglo_v_measure_resnet = v_measure_score(labels_resnet50, agglo_assignment_umap_resnet)\n",
        "    v_measure_scores_umap_resnet.append(agglo_v_measure_resnet)\n",
        "    \n",
        "print(\"Best k for ResNet feature set:\",v_measure_scores_umap_resnet.index(max(v_measure_scores_umap_resnet))+2)\n",
        "\n",
        "plt.plot(K, v_measure_scores_umap_resnet, 'bo-')\n",
        "plt.xlabel('k')\n",
        "plt.ylabel('V-Measure scores UMAP')\n",
        "plt.title('For Optimal k using ResNet')\n",
        "plt.show()"
      ]
    },
    {
      "cell_type": "markdown",
      "metadata": {},
      "source": [
        "## Final Metrics for Agglomerative Clustering using Linkage='ward'"
      ]
    },
    {
      "cell_type": "code",
      "execution_count": null,
      "metadata": {},
      "outputs": [],
      "source": [
        "pge_pca_silhouette_score = max(silhouette_scores_pca_pge)\n",
        "pge_umap_silhouette_score = max(silhouette_scores_umap_pge)\n",
        "resnet_pca_silhouette_score = max(silhouette_scores_pca_resnet)\n",
        "resnet_umap_silhouette_score = max(silhouette_scores_umap_resnet)\n",
        "\n",
        "pge_pca_v_measure = max(v_measure_scores_pca_pge)\n",
        "pge_umap_v_measure = max(v_measure_scores_umap_pge)\n",
        "resnet_pca_v_measure = max(v_measure_scores_pca_resnet)\n",
        "resnet_umap_v_measure = max(v_measure_scores_umap_resnet)\n",
        "print(\"Linkage='Ward'\")\n",
        "df_ward = pd.DataFrame({'Metrics': ['silhouette-PCA', 'silhouette-UMAP','VMeasure-PCA','VMeasure-UMAP'], 'PGE': [pge_pca_silhouette_score,pge_umap_silhouette_score,pge_pca_v_measure,pge_umap_v_measure ],'ResNet50':[resnet_pca_silhouette_score, resnet_umap_silhouette_score,resnet_pca_v_measure,resnet_umap_v_measure]}).set_index('Metrics')\n",
        "df_ward"
      ]
    },
    {
      "cell_type": "markdown",
      "metadata": {},
      "source": [
        "## Metrics Comparison for Agglomerative Clustering (Linkage = 'Ward' vs Linkage = 'single'):"
      ]
    },
    {
      "cell_type": "code",
      "execution_count": null,
      "metadata": {},
      "outputs": [],
      "source": [
        "print(\"Linkage: Ward\")\n",
        "display(df_ward)\n",
        "print(\"Linkage: Single\")\n",
        "display(df_single)"
      ]
    },
    {
      "cell_type": "markdown",
      "metadata": {},
      "source": [
        "Overall, we can observe that we get better perfomance scores and accpetable clusters when we cluster with the respect to the variance of each cluster i.e. when linkage = 'ward'.\n",
        "Since, the ground truth labels are also available for the both feature set, we consider the performance measurements using V-measure whose values are close to 1 for both the projections. The optimal cluster 'k' where we get the best cluster quality is provided below along with its members:"
      ]
    },
    {
      "cell_type": "code",
      "execution_count": null,
      "metadata": {},
      "outputs": [],
      "source": [
        "best_k_pge_pca_v_measure = v_measure_scores_pca_pge.index(max(v_measure_scores_pca_pge))+2\n",
        "best_k_pge_umap_v_measure = v_measure_scores_umap_pge.index(max(v_measure_scores_umap_pge))+2\n",
        "best_k_resnet_pca_v_measure = v_measure_scores_pca_resnet.index(max(v_measure_scores_pca_resnet))+2\n",
        "best_k_resnet_umap_v_measure = v_measure_scores_umap_resnet.index(max(v_measure_scores_umap_resnet))+2"
      ]
    },
    {
      "cell_type": "code",
      "execution_count": null,
      "metadata": {},
      "outputs": [],
      "source": [
        "print('Using PCA:')\n",
        "agglo_model= AgglomerativeClustering(n_clusters=best_k_pge_pca_v_measure, affinity='euclidean', linkage='ward')\n",
        "agglo_assignment_pca_pge = agglo_model.fit_predict(test_data_pge_pca)\n",
        "\n",
        "# print('Number of clusters from Agglomerative-PGE: %d and from Agglomerative-ResNet: %d'%(np.unique(agglo_assignment_pca_pge).shape[0],np.unique(kmeans_assignment_resnet).shape[0]))\n",
        "\n",
        "agglo_counts_pge = np.unique(agglo_assignment_pca_pge, return_counts = True)\n",
        "pge_df = pd.DataFrame({'Cluster Index': agglo_counts_pge[0], 'Number of members':agglo_counts_pge[1]}).set_index('Cluster Index')\n",
        "\n",
        "\n",
        "print('AgglomerativeClustering-PGE_PCA assignment counts')\n",
        "pge_df"
      ]
    },
    {
      "cell_type": "code",
      "execution_count": null,
      "metadata": {},
      "outputs": [],
      "source": [
        "agglo_model= AgglomerativeClustering(n_clusters=best_k_resnet_pca_v_measure, affinity='euclidean', linkage='ward')\n",
        "agglo_assignment_pca_resnet = agglo_model.fit_predict(test_data_resnet50_pca)\n",
        "\n",
        "agglo_counts_resnet = np.unique(agglo_assignment_pca_resnet, return_counts = True)\n",
        "pge_df = pd.DataFrame({'Cluster Index': agglo_counts_resnet[0], 'Number of members':agglo_counts_resnet[1]}).set_index('Cluster Index')\n",
        "\n",
        "\n",
        "print('AgglomerativeClustering-Resnet_PCA assignment counts')\n",
        "pge_df"
      ]
    },
    {
      "cell_type": "code",
      "execution_count": null,
      "metadata": {},
      "outputs": [],
      "source": [
        "print('Using UMAP:')\n",
        "agglo_model= AgglomerativeClustering(n_clusters=best_k_pge_umap_v_measure, affinity='euclidean', linkage='ward')\n",
        "agglo_assignment_pca_pge = agglo_model.fit_predict(test_data_pge_umap)\n",
        "\n",
        "# print('Number of clusters from Agglomerative-PGE: %d and from Agglomerative-ResNet: %d'%(np.unique(agglo_assignment_pca_pge).shape[0],np.unique(kmeans_assignment_resnet).shape[0]))\n",
        "\n",
        "agglo_counts_pge = np.unique(agglo_assignment_pca_pge, return_counts = True)\n",
        "pge_df = pd.DataFrame({'Cluster Index': agglo_counts_pge[0], 'Number of members':agglo_counts_pge[1]}).set_index('Cluster Index')\n",
        "\n",
        "\n",
        "print('AgglomerativeClustering-PGE_UMAP assignment counts')\n",
        "pge_df"
      ]
    },
    {
      "cell_type": "code",
      "execution_count": null,
      "metadata": {},
      "outputs": [],
      "source": [
        "agglo_model= AgglomerativeClustering(n_clusters=best_k_resnet_umap_v_measure, affinity='euclidean', linkage='ward')\n",
        "agglo_assignment_pca_resnet = agglo_model.fit_predict(test_data_resnet50_umap)\n",
        "\n",
        "agglo_counts_resnet = np.unique(agglo_assignment_pca_resnet, return_counts = True)\n",
        "pge_df = pd.DataFrame({'Cluster Index': agglo_counts_resnet[0], 'Number of members':agglo_counts_resnet[1]}).set_index('Cluster Index')\n",
        "\n",
        "\n",
        "print('AgglomerativeClustering-Resnet_UMAP assignment counts')\n",
        "pge_df"
      ]
    },
    {
      "cell_type": "markdown",
      "metadata": {},
      "source": [
        "In real life application of unsupervised learning:\n",
        "\n",
        "1. V-Measure is not a feasible measure to find the optimal number of clusters 'k' for a given dataset.\n",
        "\n",
        "2. The real labels are never available in practical applications.\n",
        "\n",
        "Hence, we are considering the silhouette score to find the optimal number of clusters 'k' whose value ranges from -1 to 1. The optimal cluster 'k' where we get the best fit is provided below along with its members:"
      ]
    },
    {
      "cell_type": "code",
      "execution_count": null,
      "metadata": {},
      "outputs": [],
      "source": [
        "best_k_pge_pca_silhouette_score = silhouette_scores_pca_pge.index(max(silhouette_scores_pca_pge))+2\n",
        "best_k_pge_umap_silhouette_score = silhouette_scores_umap_pge.index(max(silhouette_scores_umap_pge))+2\n",
        "best_k_resnet_pca_silhouette_score = silhouette_scores_pca_resnet.index(max(silhouette_scores_pca_resnet))+2\n",
        "best_k_resnet_umap_silhouette_score = silhouette_scores_umap_resnet.index(max(silhouette_scores_umap_resnet))+2"
      ]
    },
    {
      "cell_type": "code",
      "execution_count": null,
      "metadata": {},
      "outputs": [],
      "source": [
        "print('Using PCA:')\n",
        "agglo_model= AgglomerativeClustering(n_clusters=best_k_pge_pca_silhouette_score, affinity='euclidean', linkage='ward')\n",
        "agglo_assignment_pca_pge = agglo_model.fit_predict(test_data_pge_pca)\n",
        "\n",
        "# print('Number of clusters from Agglomerative-PGE: %d and from Agglomerative-ResNet: %d'%(np.unique(agglo_assignment_pca_pge).shape[0],np.unique(kmeans_assignment_resnet).shape[0]))\n",
        "\n",
        "agglo_counts_pge = np.unique(agglo_assignment_pca_pge, return_counts = True)\n",
        "pge_df = pd.DataFrame({'Cluster Index': agglo_counts_pge[0], 'Number of members':agglo_counts_pge[1]}).set_index('Cluster Index')\n",
        "\n",
        "\n",
        "print('AgglomerativeClustering-PGE_PCA assignment counts')\n",
        "pge_df"
      ]
    },
    {
      "cell_type": "code",
      "execution_count": null,
      "metadata": {},
      "outputs": [],
      "source": [
        "agglo_model= AgglomerativeClustering(n_clusters=best_k_resnet_pca_silhouette_score, affinity='euclidean', linkage='ward')\n",
        "agglo_assignment_pca_resnet = agglo_model.fit_predict(test_data_resnet50_pca)\n",
        "\n",
        "agglo_counts_resnet = np.unique(agglo_assignment_pca_resnet, return_counts = True)\n",
        "pge_df = pd.DataFrame({'Cluster Index': agglo_counts_resnet[0], 'Number of members':agglo_counts_resnet[1]}).set_index('Cluster Index')\n",
        "\n",
        "\n",
        "print('AgglomerativeClustering-Resnet_PCA assignment counts')\n",
        "pge_df"
      ]
    },
    {
      "cell_type": "code",
      "execution_count": null,
      "metadata": {},
      "outputs": [],
      "source": [
        "print('Using UMAP:')\n",
        "agglo_model= AgglomerativeClustering(n_clusters=best_k_pge_umap_silhouette_score, affinity='euclidean', linkage='ward')\n",
        "agglo_assignment_pca_pge = agglo_model.fit_predict(test_data_pge_umap)\n",
        "\n",
        "# print('Number of clusters from Agglomerative-PGE: %d and from Agglomerative-ResNet: %d'%(np.unique(agglo_assignment_pca_pge).shape[0],np.unique(kmeans_assignment_resnet).shape[0]))\n",
        "\n",
        "agglo_counts_pge = np.unique(agglo_assignment_pca_pge, return_counts = True)\n",
        "pge_df = pd.DataFrame({'Cluster Index': agglo_counts_pge[0], 'Number of members':agglo_counts_pge[1]}).set_index('Cluster Index')\n",
        "\n",
        "\n",
        "print('AgglomerativeClustering-PGE_UMAP assignment counts')\n",
        "pge_df"
      ]
    },
    {
      "cell_type": "code",
      "execution_count": null,
      "metadata": {},
      "outputs": [],
      "source": [
        "agglo_model= AgglomerativeClustering(n_clusters=best_k_resnet_umap_silhouette_score, affinity='euclidean', linkage='ward')\n",
        "agglo_assignment_pca_resnet = agglo_model.fit_predict(test_data_resnet50_umap)\n",
        "\n",
        "agglo_counts_resnet = np.unique(agglo_assignment_pca_resnet, return_counts = True)\n",
        "pge_df = pd.DataFrame({'Cluster Index': agglo_counts_resnet[0], 'Number of members':agglo_counts_resnet[1]}).set_index('Cluster Index')\n",
        "\n",
        "\n",
        "print('AgglomerativeClustering-Resnet_UMAP assignment counts')\n",
        "pge_df"
      ]
    },
    {
      "cell_type": "markdown",
      "metadata": {},
      "source": [
        "## Tissue type percentage in two different clustering configurations for both projections."
      ]
    },
    {
      "cell_type": "markdown",
      "metadata": {},
      "source": [
        "### 1. PGE Features Set:"
      ]
    },
    {
      "cell_type": "code",
      "execution_count": null,
      "metadata": {},
      "outputs": [],
      "source": [
        "print(\"For PGE\")\n",
        "kmeans_model_pge = KMeans(n_clusters = Kmeans_best_k_pca_pge, random_state = 0) \n",
        "kmeans_assignment_pge = kmeans_model_pge.fit_predict(test_data_pge_pca)\n",
        "\n",
        "resulted_cluster_df = pd.DataFrame({'clusterID': kmeans_assignment_pge, 'type': labels_pge})\n",
        "label_proportion_df = resulted_cluster_df.groupby(['clusterID']).apply(lambda x: calculate_percent(x,'type')).rename(columns={'clusterID':'type_occurrence_percentage'}).reset_index()\n",
        "pivoted_label_proportion_df = pd.pivot_table(label_proportion_df, index = 'clusterID', columns = 'type', values = 'type_occurrence_percentage')\n",
        "\n",
        "\n",
        "f, axes = plt.subplots(1, 2, figsize=(20,5))\n",
        "number_of_tile_df = resulted_cluster_df.groupby('clusterID')['type'].count().reset_index().rename(columns={'type':'number_of_tile'})\n",
        "df_idx = pivoted_label_proportion_df.index\n",
        "(pivoted_label_proportion_df*100).loc[df_idx].plot.bar(stacked=True, ax = axes[0] )\n",
        "\n",
        "axes[0].set_ylabel('Percentage of tissue type')\n",
        "axes[0].legend(loc='upper right')\n",
        "axes[0].set_title('Cluster configuration by Kmeans-PCA')\n",
        "\n",
        "\n",
        "agglo_model= AgglomerativeClustering(n_clusters=best_k_pge_pca_silhouette_score, affinity='euclidean', linkage='ward')\n",
        "agglo_assignment_pca_pge = agglo_model.fit_predict(test_data_pge_pca)\n",
        "\n",
        "resulted_cluster_df = pd.DataFrame({'clusterID': agglo_assignment_pca_pge, 'type': labels_pge})\n",
        "label_proportion_df = resulted_cluster_df.groupby(['clusterID']).apply(lambda x: calculate_percent(x,'type')).rename(columns={'clusterID':'type_occurrence_percentage'}).reset_index()\n",
        "pivoted_label_proportion_df = pd.pivot_table(label_proportion_df, index = 'clusterID', columns = 'type', values = 'type_occurrence_percentage')\n",
        "\n",
        "\n",
        "number_of_tile_df = resulted_cluster_df.groupby('clusterID')['type'].count().reset_index().rename(columns={'type':'number_of_tile'})\n",
        "df_idx = pivoted_label_proportion_df.index\n",
        "(pivoted_label_proportion_df*100).loc[df_idx].plot.bar(stacked=True, ax = axes[1] )\n",
        "\n",
        "axes[1].set_ylabel('Percentage of tissue type')\n",
        "axes[1].legend(loc='upper right')\n",
        "axes[1].set_title('Cluster configuration by Hierarchial Clustering-PCA')\n",
        "\n",
        "\n",
        "kmeans_model_pge = KMeans(n_clusters = Kmeans_best_k_umap_pge, random_state = 0) \n",
        "kmeans_assignment_pge = kmeans_model_pge.fit_predict(test_data_pge_umap)\n",
        "\n",
        "resulted_cluster_df = pd.DataFrame({'clusterID': kmeans_assignment_pge, 'type': labels_pge})\n",
        "label_proportion_df = resulted_cluster_df.groupby(['clusterID']).apply(lambda x: calculate_percent(x,'type')).rename(columns={'clusterID':'type_occurrence_percentage'}).reset_index()\n",
        "pivoted_label_proportion_df = pd.pivot_table(label_proportion_df, index = 'clusterID', columns = 'type', values = 'type_occurrence_percentage')\n",
        "\n",
        "\n",
        "f, axes = plt.subplots(1, 2, figsize=(20,5))\n",
        "number_of_tile_df = resulted_cluster_df.groupby('clusterID')['type'].count().reset_index().rename(columns={'type':'number_of_tile'})\n",
        "df_idx = pivoted_label_proportion_df.index\n",
        "(pivoted_label_proportion_df*100).loc[df_idx].plot.bar(stacked=True, ax = axes[0] )\n",
        "\n",
        "axes[0].set_ylabel('Percentage of tissue type')\n",
        "axes[0].legend(loc='upper right')\n",
        "axes[0].set_title('Cluster configuration by Kmeans-UMAP')\n",
        "\n",
        "\n",
        "agglo_model= AgglomerativeClustering(n_clusters=best_k_pge_umap_silhouette_score, affinity='euclidean', linkage='ward')\n",
        "agglo_assignment_pca_pge = agglo_model.fit_predict(test_data_pge_umap)\n",
        "\n",
        "resulted_cluster_df = pd.DataFrame({'clusterID': agglo_assignment_pca_pge, 'type': labels_pge})\n",
        "label_proportion_df = resulted_cluster_df.groupby(['clusterID']).apply(lambda x: calculate_percent(x,'type')).rename(columns={'clusterID':'type_occurrence_percentage'}).reset_index()\n",
        "pivoted_label_proportion_df = pd.pivot_table(label_proportion_df, index = 'clusterID', columns = 'type', values = 'type_occurrence_percentage')\n",
        "\n",
        "\n",
        "number_of_tile_df = resulted_cluster_df.groupby('clusterID')['type'].count().reset_index().rename(columns={'type':'number_of_tile'})\n",
        "df_idx = pivoted_label_proportion_df.index\n",
        "(pivoted_label_proportion_df*100).loc[df_idx].plot.bar(stacked=True, ax = axes[1] )\n",
        "\n",
        "axes[1].set_ylabel('Percentage of tissue type')\n",
        "axes[1].legend(loc='upper right')\n",
        "axes[1].set_title('Cluster configuration by Hierarchial Clustering-UMAP')\n",
        "f.show() "
      ]
    },
    {
      "cell_type": "markdown",
      "metadata": {},
      "source": [
        "### 2. Resnet50 Features Set"
      ]
    },
    {
      "cell_type": "code",
      "execution_count": null,
      "metadata": {},
      "outputs": [],
      "source": [
        "print(\"For ResNet50\")\n",
        "kmeans_model_pge = KMeans(n_clusters = Kmeans_best_k_pca_resnet, random_state = 0) \n",
        "kmeans_assignment_resnet = kmeans_model_pge.fit_predict(test_data_resnet50_pca)\n",
        "\n",
        "resulted_cluster_df = pd.DataFrame({'clusterID': kmeans_assignment_resnet, 'type': labels_resnet})\n",
        "label_proportion_df = resulted_cluster_df.groupby(['clusterID']).apply(lambda x: calculate_percent(x,'type')).rename(columns={'clusterID':'type_occurrence_percentage'}).reset_index()\n",
        "pivoted_label_proportion_df = pd.pivot_table(label_proportion_df, index = 'clusterID', columns = 'type', values = 'type_occurrence_percentage')\n",
        "\n",
        "\n",
        "f, axes = plt.subplots(1, 2, figsize=(20,5))\n",
        "number_of_tile_df = resulted_cluster_df.groupby('clusterID')['type'].count().reset_index().rename(columns={'type':'number_of_tile'})\n",
        "df_idx = pivoted_label_proportion_df.index\n",
        "(pivoted_label_proportion_df*100).loc[df_idx].plot.bar(stacked=True, ax = axes[0] )\n",
        "\n",
        "axes[0].set_ylabel('Percentage of tissue type')\n",
        "axes[0].legend(loc='upper right')\n",
        "axes[0].set_title('Cluster configuration by Kmeans-PCA')\n",
        "\n",
        "\n",
        "agglo_model= AgglomerativeClustering(n_clusters=best_k_resnet_pca_silhouette_score, affinity='euclidean', linkage='ward')\n",
        "agglo_assignment_pca_resnet = agglo_model.fit_predict(test_data_resnet50_pca)\n",
        "\n",
        "resulted_cluster_df = pd.DataFrame({'clusterID': agglo_assignment_pca_resnet, 'type': labels_pge})\n",
        "label_proportion_df = resulted_cluster_df.groupby(['clusterID']).apply(lambda x: calculate_percent(x,'type')).rename(columns={'clusterID':'type_occurrence_percentage'}).reset_index()\n",
        "pivoted_label_proportion_df = pd.pivot_table(label_proportion_df, index = 'clusterID', columns = 'type', values = 'type_occurrence_percentage')\n",
        "\n",
        "\n",
        "number_of_tile_df = resulted_cluster_df.groupby('clusterID')['type'].count().reset_index().rename(columns={'type':'number_of_tile'})\n",
        "df_idx = pivoted_label_proportion_df.index\n",
        "(pivoted_label_proportion_df*100).loc[df_idx].plot.bar(stacked=True, ax = axes[1] )\n",
        "\n",
        "axes[1].set_ylabel('Percentage of tissue type')\n",
        "axes[1].legend(loc='upper right')\n",
        "axes[1].set_title('Cluster configuration by Hierarchial Clustering-PCA')\n",
        "\n",
        "\n",
        "kmeans_model_pge = KMeans(n_clusters = Kmeans_best_k_umap_resnet, random_state = 0) \n",
        "kmeans_assignment_resnet = kmeans_model_pge.fit_predict(test_data_resnet50_umap)\n",
        "\n",
        "resulted_cluster_df = pd.DataFrame({'clusterID': kmeans_assignment_resnet, 'type': labels_resnet50})\n",
        "label_proportion_df = resulted_cluster_df.groupby(['clusterID']).apply(lambda x: calculate_percent(x,'type')).rename(columns={'clusterID':'type_occurrence_percentage'}).reset_index()\n",
        "pivoted_label_proportion_df = pd.pivot_table(label_proportion_df, index = 'clusterID', columns = 'type', values = 'type_occurrence_percentage')\n",
        "\n",
        "\n",
        "f, axes = plt.subplots(1, 2, figsize=(20,5))\n",
        "number_of_tile_df = resulted_cluster_df.groupby('clusterID')['type'].count().reset_index().rename(columns={'type':'number_of_tile'})\n",
        "df_idx = pivoted_label_proportion_df.index\n",
        "(pivoted_label_proportion_df*100).loc[df_idx].plot.bar(stacked=True, ax = axes[0] )\n",
        "\n",
        "axes[0].set_ylabel('Percentage of tissue type')\n",
        "axes[0].legend(loc='upper right')\n",
        "axes[0].set_title('Cluster configuration by Kmeans-UMAP')\n",
        "\n",
        "\n",
        "agglo_model= AgglomerativeClustering(n_clusters=best_k_resnet_umap_silhouette_score, affinity='euclidean', linkage='ward')\n",
        "agglo_assignment_pca_resnet = agglo_model.fit_predict(test_data_resnet50_umap)\n",
        "\n",
        "resulted_cluster_df = pd.DataFrame({'clusterID': agglo_assignment_pca_resnet, 'type': labels_resnet50})\n",
        "label_proportion_df = resulted_cluster_df.groupby(['clusterID']).apply(lambda x: calculate_percent(x,'type')).rename(columns={'clusterID':'type_occurrence_percentage'}).reset_index()\n",
        "pivoted_label_proportion_df = pd.pivot_table(label_proportion_df, index = 'clusterID', columns = 'type', values = 'type_occurrence_percentage')\n",
        "\n",
        "\n",
        "number_of_tile_df = resulted_cluster_df.groupby('clusterID')['type'].count().reset_index().rename(columns={'type':'number_of_tile'})\n",
        "df_idx = pivoted_label_proportion_df.index\n",
        "(pivoted_label_proportion_df*100).loc[df_idx].plot.bar(stacked=True, ax = axes[1] )\n",
        "\n",
        "axes[1].set_ylabel('Percentage of tissue type')\n",
        "axes[1].legend(loc='upper right')\n",
        "axes[1].set_title('Cluster configuration by Hierarchial Clustering-UMAP')\n",
        "f.show() "
      ]
    }
  ],
  "metadata": {
    "colab": {
      "provenance": [],
      "toc_visible": true
    },
    "kernelspec": {
      "display_name": "Python 3 (ipykernel)",
      "language": "python",
      "name": "python3"
    },
    "language_info": {
      "codemirror_mode": {
        "name": "ipython",
        "version": 3
      },
      "file_extension": ".py",
      "mimetype": "text/x-python",
      "name": "python",
      "nbconvert_exporter": "python",
      "pygments_lexer": "ipython3",
      "version": "3.11.4"
    }
  },
  "nbformat": 4,
  "nbformat_minor": 0
}
